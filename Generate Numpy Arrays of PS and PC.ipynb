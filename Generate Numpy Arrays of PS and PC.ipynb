{
 "cells": [
  {
   "cell_type": "markdown",
   "metadata": {},
   "source": [
    "This notebook generates `.npy` files for PS and PC."
   ]
  },
  {
   "cell_type": "code",
   "execution_count": 2,
   "metadata": {
    "collapsed": true
   },
   "outputs": [],
   "source": [
    "%matplotlib inline\n",
    "%config InlineBackend.figure_format = 'retina' # I use a HiDPI screen\n",
    "\n",
    "import os\n",
    "import numpy as np\n",
    "import matplotlib.pyplot as plt"
   ]
  },
  {
   "cell_type": "code",
   "execution_count": 5,
   "metadata": {
    "collapsed": false
   },
   "outputs": [
    {
     "ename": "FileNotFoundError",
     "evalue": "[Errno 2] No such file or directory: '/Users/zequnl/Projects/neutrino_mpk/powerspectrum_noiseless/'",
     "output_type": "error",
     "traceback": [
      "\u001b[0;31m---------------------------------------------------------------------------\u001b[0m",
      "\u001b[0;31mFileNotFoundError\u001b[0m                         Traceback (most recent call last)",
      "\u001b[0;32m<ipython-input-5-efb9567967b2>\u001b[0m in \u001b[0;36m<module>\u001b[0;34m()\u001b[0m\n\u001b[1;32m      6\u001b[0m \u001b[0;31m# this code finds all the filenames and puts them in a list\u001b[0m\u001b[0;34m\u001b[0m\u001b[0;34m\u001b[0m\u001b[0m\n\u001b[1;32m      7\u001b[0m \u001b[0mPS_names\u001b[0m\u001b[0;34m,\u001b[0m \u001b[0mPC_names\u001b[0m \u001b[0;34m=\u001b[0m \u001b[0;34m[\u001b[0m\u001b[0;34m]\u001b[0m\u001b[0;34m,\u001b[0m \u001b[0;34m[\u001b[0m\u001b[0;34m]\u001b[0m\u001b[0;34m\u001b[0m\u001b[0m\n\u001b[0;32m----> 8\u001b[0;31m \u001b[0;32mfor\u001b[0m \u001b[0mfilename\u001b[0m \u001b[0;32min\u001b[0m \u001b[0mos\u001b[0m\u001b[0;34m.\u001b[0m\u001b[0mlistdir\u001b[0m\u001b[0;34m(\u001b[0m\u001b[0mPS_directory\u001b[0m\u001b[0;34m)\u001b[0m\u001b[0;34m:\u001b[0m\u001b[0;34m\u001b[0m\u001b[0m\n\u001b[0m\u001b[1;32m      9\u001b[0m     \u001b[0;32mif\u001b[0m \u001b[0mfilename\u001b[0m\u001b[0;34m.\u001b[0m\u001b[0mendswith\u001b[0m\u001b[0;34m(\u001b[0m\u001b[0;34m\".npy\"\u001b[0m\u001b[0;34m)\u001b[0m\u001b[0;34m:\u001b[0m\u001b[0;34m\u001b[0m\u001b[0m\n\u001b[1;32m     10\u001b[0m         \u001b[0mPS_names\u001b[0m\u001b[0;34m.\u001b[0m\u001b[0mappend\u001b[0m\u001b[0;34m(\u001b[0m\u001b[0mfilename\u001b[0m\u001b[0;34m)\u001b[0m\u001b[0;34m\u001b[0m\u001b[0m\n",
      "\u001b[0;31mFileNotFoundError\u001b[0m: [Errno 2] No such file or directory: '/Users/zequnl/Projects/neutrino_mpk/powerspectrum_noiseless/'"
     ]
    }
   ],
   "source": [
    "# I'm running this locally, change to /tigress/jialiu/zack/ if you're on tigress\n",
    "data_dir = '/Users/zequnl/Projects/neutrino_mpk/'\n",
    "PS_directory = data_dir + 'powerspectrum_noiseless/'\n",
    "PC_directory = data_dir + 'peakcounts_noiseless/'\n",
    "\n",
    "# this code finds all the filenames and puts them in a list\n",
    "PS_names, PC_names = [], []\n",
    "for filename in os.listdir(PS_directory):\n",
    "    if filename.endswith(\".npy\"): \n",
    "        PS_names.append(filename)\n",
    "for filename in os.listdir(PC_directory):\n",
    "    if filename.endswith(\".npy\"): \n",
    "        PC_names.append(filename)\n",
    "print('Found', len(PS_names), 'PS files and', len(PC_names), 'PC files.')\n",
    "\n",
    "def get_As( string_with_As ):\n",
    "    return float(string_with_As.split('_As')[1].split('_mva')[0])\n",
    "\n",
    "def get_filenames_PS_PC( input_As ):\n",
    "    PS_filename_candidates = [x for x in PS_names if np.isclose(input_As,get_As(x), atol=1e-4)]\n",
    "    PC_filename_candidates = [x for x in PC_names if np.isclose(input_As,get_As(x), atol=1e-4)]\n",
    "    if len(PS_filename_candidates) == 1 and len(PC_filename_candidates) == 1:\n",
    "        return PS_filename_candidates[0], PC_filename_candidates[0]\n",
    "    else:\n",
    "        print(\"multiple file candidates found! possibly fiducial model 1a/1b\")\n",
    "        return None\n",
    "    \n",
    "from astropy.table import Table\n",
    "t = Table.read(data_dir + 'cosmological_parameters.txt', format='ascii')\n",
    "\n",
    "PS_filename_list_temp = []\n",
    "PC_filename_list_temp = []\n",
    "for row in t:\n",
    "    # special cases (fiducial 1 and 2)\n",
    "    if '1a(fiducial)' in row['Model']:\n",
    "        PS_name = 'Om0.29997_As2.10000_mva0.00000_mvb0.00000_mvc0.00000_h0.70000_Ode0.69995_PS_50.npy'\n",
    "        PC_name = 'Om0.29997_As2.10000_mva0.00000_mvb0.00000_mvc0.00000_h0.70000_Ode0.69995_PC_S.npy'\n",
    "    elif '1b(fiducial)' in row['Model']:\n",
    "        PS_name = 'Om0.29780_As2.10000_mva0.02175_mvb0.02338_mvc0.05486_h0.70000_Ode0.69995_PS_50.npy'\n",
    "        PC_name = 'Om0.29780_As2.10000_mva0.02175_mvb0.02338_mvc0.05486_h0.70000_Ode0.69995_PC_S.npy'\n",
    "    else:\n",
    "        PS_name, PC_name = get_filenames_PS_PC(row['10^9*A_s'])\n",
    "    \n",
    "    PS_filename_list_temp.append(PS_name)\n",
    "    PC_filename_list_temp.append(PC_name)\n",
    "\n",
    "# put the filenames in the table for easy access\n",
    "t['PS'] = np.array(PS_filename_list_temp)\n",
    "t['PC'] = np.array(PC_filename_list_temp)\n",
    "\n",
    "# show the table\n",
    "t"
   ]
  },
  {
   "cell_type": "code",
   "execution_count": null,
   "metadata": {
    "collapsed": true
   },
   "outputs": [],
   "source": []
  }
 ],
 "metadata": {
  "kernelspec": {
   "display_name": "Python 3",
   "language": "python",
   "name": "python3"
  },
  "language_info": {
   "codemirror_mode": {
    "name": "ipython",
    "version": 3
   },
   "file_extension": ".py",
   "mimetype": "text/x-python",
   "name": "python",
   "nbconvert_exporter": "python",
   "pygments_lexer": "ipython3",
   "version": "3.6.0"
  }
 },
 "nbformat": 4,
 "nbformat_minor": 2
}
