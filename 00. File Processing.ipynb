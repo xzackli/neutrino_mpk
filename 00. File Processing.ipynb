{
 "cells": [
  {
   "cell_type": "code",
   "execution_count": 1,
   "metadata": {
    "collapsed": false
   },
   "outputs": [],
   "source": [
    "%matplotlib inline \n",
    "%load_ext autoreload\n",
    "%autoreload 2"
   ]
  },
  {
   "cell_type": "code",
   "execution_count": 2,
   "metadata": {
    "collapsed": true
   },
   "outputs": [],
   "source": [
    "import os\n",
    "import numpy as np \n",
    "import matplotlib.pyplot as plt\n",
    "\n",
    "# inline magic changes figsize, set it again here\n",
    "import matplotlib\n",
    "matplotlib.rcParams['figure.figsize'] = 10,8 \n",
    "default_color_list = plt.rcParams['axes.prop_cycle'].by_key()['color'] # get default colors\n",
    "\n",
    "from astropy.table import Table"
   ]
  },
  {
   "cell_type": "markdown",
   "metadata": {},
   "source": [
    "# 0. File Processing\n",
    "This notebook creates `parameters.table` from the filenames of a folder, which is used to load the appropriate files later. We discover which PS and PC files are available, from the noiseless spectra.\n",
    "\n",
    "In general, this file **does not need to be run** as the file `parameters.table` will be already generated."
   ]
  },
  {
   "cell_type": "code",
   "execution_count": 3,
   "metadata": {
    "collapsed": false
   },
   "outputs": [
    {
     "name": "stdout",
     "output_type": "stream",
     "text": [
      "Found 101 PS files and 101 PC files.\n"
     ]
    }
   ],
   "source": [
    "PS_directory = 'powerspectrum_noiseless/'\n",
    "PC_directory = 'peakcounts_noiseless/'\n",
    "\n",
    "PS_names, PC_names = [], []\n",
    "for filename in os.listdir(PS_directory):\n",
    "    if filename.endswith(\"_z05.npy\"):  \n",
    "        PS_names.append(filename)\n",
    "for filename in os.listdir(PC_directory):\n",
    "    if filename.endswith(\"_z05.npy\"): \n",
    "        PC_names.append(filename)\n",
    "print('Found', len(PS_names), 'PS files and', len(PC_names), 'PC files.')"
   ]
  },
  {
   "cell_type": "markdown",
   "metadata": {},
   "source": [
    "## Table Construction\n",
    "We now read the parameters in `cosmological_parameters.txt` and look for a file in the noiseless spectra corresponding to it, and similarly for peak counts. The $\\Omega_m$ values between files and parameters do not match, due to different accounting of the neutrino contribution. The easiest way for me to do this was to filter by `As`, and handle the two exceptions (the two fiducial models) separately."
   ]
  },
  {
   "cell_type": "code",
   "execution_count": 4,
   "metadata": {
    "collapsed": false
   },
   "outputs": [],
   "source": [
    "# helper function for extracting the numerical value of As from a filename\n",
    "def get_As( string_with_As ):\n",
    "    return float(string_with_As.split('_As')[1].split('_mva')[0])\n",
    "\n",
    "# read in list of simulation cosmo parameters\n",
    "table = Table.read('cosmological_parameters.txt', format='ascii')\n",
    "\n",
    "# begin extracting filenames\n",
    "PS_filename_list_temp = []\n",
    "PC_filename_list_temp = []\n",
    "for row in table:\n",
    "    # special cases (fiducial 1 and 2)\n",
    "    if '1a(fiducial)' in row['Model']:\n",
    "        PS_name = 'Om0.29997_As2.10000_mva0.00000_mvb0.00000_mvc0.00000_h0.70000_Ode0.69995_PS_50_z05.npy'\n",
    "        PC_name = 'Om0.29997_As2.10000_mva0.00000_mvb0.00000_mvc0.00000_h0.70000_Ode0.69995_PC_S_z05.npy'\n",
    "    elif '1b(fiducial)' in row['Model']:\n",
    "        PS_name = 'Om0.29780_As2.10000_mva0.02175_mvb0.02338_mvc0.05486_h0.70000_Ode0.69995_PS_50_z05.npy'\n",
    "        PC_name = 'Om0.29780_As2.10000_mva0.02175_mvb0.02338_mvc0.05486_h0.70000_Ode0.69995_PC_S_z05.npy'\n",
    "    else:\n",
    "        PS_filename_candidates = [x for x in PS_names if np.isclose(row['10^9*A_s'],get_As(x), atol=1e-4)]\n",
    "        PC_filename_candidates = [x for x in PC_names if np.isclose(row['10^9*A_s'],get_As(x), atol=1e-4)]\n",
    "        if len(PS_filename_candidates) == 1 and len(PC_filename_candidates) == 1:\n",
    "             PS_name, PC_name = PS_filename_candidates[0], PC_filename_candidates[0]\n",
    "        else:\n",
    "            raise ValueError('multiple file candidates found! possibly fiducial model 1a/1b')\n",
    "\n",
    "    PS_filename_list_temp.append(PS_name)\n",
    "    PC_filename_list_temp.append(PC_name)\n",
    "\n",
    "# put the filenames in the table for easy access\n",
    "table['PS'] = np.array(PS_filename_list_temp)\n",
    "table['PC'] = np.array(PC_filename_list_temp)"
   ]
  },
  {
   "cell_type": "code",
   "execution_count": 5,
   "metadata": {
    "collapsed": false
   },
   "outputs": [
    {
     "data": {
      "text/html": [
       "&lt;Table length=101&gt;\n",
       "<table id=\"table140336617431896\" class=\"table-striped table-bordered table-condensed\">\n",
       "<thead><tr><th>Model</th><th>M_nu(eV)</th><th>Omega_m</th><th>10^9*A_s</th><th>sigma_8(derived)</th><th>PS</th><th>PC</th></tr></thead>\n",
       "<thead><tr><th>str12</th><th>float64</th><th>float64</th><th>float64</th><th>float64</th><th>str86</th><th>str85</th></tr></thead>\n",
       "<tr><td>1a(fiducial)</td><td>0.0</td><td>0.3</td><td>2.1</td><td>0.8523</td><td>Om0.29997_As2.10000_mva0.00000_mvb0.00000_mvc0.00000_h0.70000_Ode0.69995_PS_50_z05.npy</td><td>Om0.29997_As2.10000_mva0.00000_mvb0.00000_mvc0.00000_h0.70000_Ode0.69995_PC_S_z05.npy</td></tr>\n",
       "<tr><td>1b(fiducial)</td><td>0.1</td><td>0.3</td><td>2.1</td><td>0.8295</td><td>Om0.29780_As2.10000_mva0.02175_mvb0.02338_mvc0.05486_h0.70000_Ode0.69995_PS_50_z05.npy</td><td>Om0.29780_As2.10000_mva0.02175_mvb0.02338_mvc0.05486_h0.70000_Ode0.69995_PC_S_z05.npy</td></tr>\n",
       "<tr><td>2</td><td>0.06271</td><td>0.3815</td><td>2.2004</td><td>1.0135</td><td>Om0.38016_As2.20037_mva0.00312_mvb0.00913_mvc0.05046_h0.70000_Ode0.61841_PS_50_z05.npy</td><td>Om0.38016_As2.20037_mva0.00312_mvb0.00913_mvc0.05046_h0.70000_Ode0.61841_PC_S_z05.npy</td></tr>\n",
       "<tr><td>3</td><td>0.06522</td><td>0.2821</td><td>1.8826</td><td>0.7563</td><td>Om0.28062_As1.88255_mva0.00479_mvb0.00983_mvc0.05059_h0.70000_Ode0.71790_PS_50_z05.npy</td><td>Om0.28062_As1.88255_mva0.00479_mvb0.00983_mvc0.05059_h0.70000_Ode0.71790_PC_S_z05.npy</td></tr>\n",
       "<tr><td>4</td><td>0.06773</td><td>0.4159</td><td>1.6231</td><td>0.9171</td><td>Om0.41442_As1.62306_mva0.00631_mvb0.01066_mvc0.05076_h0.70000_Ode0.58404_PS_50_z05.npy</td><td>Om0.41442_As1.62306_mva0.00631_mvb0.01066_mvc0.05076_h0.70000_Ode0.58404_PC_S_z05.npy</td></tr>\n",
       "<tr><td>5</td><td>0.07024</td><td>0.2023</td><td>2.3075</td><td>0.6231</td><td>Om0.20080_As2.30753_mva0.00773_mvb0.01155_mvc0.05096_h0.70000_Ode0.79760_PS_50_z05.npy</td><td>Om0.20080_As2.30753_mva0.00773_mvb0.01155_mvc0.05096_h0.70000_Ode0.79760_PC_S_z05.npy</td></tr>\n",
       "<tr><td>6</td><td>0.07275</td><td>0.3283</td><td>2.2883</td><td>0.9324</td><td>Om0.32666_As2.28829_mva0.00908_mvb0.01249_mvc0.05118_h0.70000_Ode0.67169_PS_50_z05.npy</td><td>Om0.32666_As2.28829_mva0.00908_mvb0.01249_mvc0.05118_h0.70000_Ode0.67169_PC_S_z05.npy</td></tr>\n",
       "<tr><td>7</td><td>0.07526</td><td>0.3355</td><td>1.5659</td><td>0.7828</td><td>Om0.33386_As1.56595_mva0.01037_mvb0.01347_mvc0.05142_h0.70000_Ode0.66444_PS_50_z05.npy</td><td>Om0.33386_As1.56595_mva0.01037_mvb0.01347_mvc0.05142_h0.70000_Ode0.66444_PC_S_z05.npy</td></tr>\n",
       "<tr><td>8</td><td>0.07778</td><td>0.2597</td><td>2.4333</td><td>0.8008</td><td>Om0.25795_As2.43331_mva0.01163_mvb0.01446_mvc0.05169_h0.70000_Ode0.74029_PS_50_z05.npy</td><td>Om0.25795_As2.43331_mva0.01163_mvb0.01446_mvc0.05169_h0.70000_Ode0.74029_PC_S_z05.npy</td></tr>\n",
       "<tr><td>9</td><td>0.0803</td><td>0.2783</td><td>2.3824</td><td>0.8382</td><td>Om0.27656_As2.38239_mva0.01286_mvb0.01546_mvc0.05198_h0.70000_Ode0.72163_PS_50_z05.npy</td><td>Om0.27656_As2.38239_mva0.01286_mvb0.01546_mvc0.05198_h0.70000_Ode0.72163_PC_S_z05.npy</td></tr>\n",
       "<tr><td>...</td><td>...</td><td>...</td><td>...</td><td>...</td><td>...</td><td>...</td></tr>\n",
       "<tr><td>91</td><td>0.39287</td><td>0.2731</td><td>1.8925</td><td>0.6595</td><td>Om0.26447_As1.89247_mva0.12767_mvb0.12796_mvc0.13724_h0.70000_Ode0.72685_PS_50_z05.npy</td><td>Om0.26447_As1.89247_mva0.12767_mvb0.12796_mvc0.13724_h0.70000_Ode0.72685_PC_S_z05.npy</td></tr>\n",
       "<tr><td>92</td><td>0.40343</td><td>0.354</td><td>1.5966</td><td>0.7521</td><td>Om0.34515_As1.59657_mva0.13127_mvb0.13155_mvc0.14060_h0.70000_Ode0.64593_PS_50_z05.npy</td><td>Om0.34515_As1.59657_mva0.13127_mvb0.13155_mvc0.14060_h0.70000_Ode0.64593_PC_S_z05.npy</td></tr>\n",
       "<tr><td>93</td><td>0.41504</td><td>0.3097</td><td>2.3486</td><td>0.8157</td><td>Om0.30054_As2.34860_mva0.13523_mvb0.13550_mvc0.14431_h0.70000_Ode0.69029_PS_50_z05.npy</td><td>Om0.30054_As2.34860_mva0.13523_mvb0.13550_mvc0.14431_h0.70000_Ode0.69029_PC_S_z05.npy</td></tr>\n",
       "<tr><td>94</td><td>0.428</td><td>0.2868</td><td>2.0723</td><td>0.7132</td><td>Om0.27744_As2.07233_mva0.13964_mvb0.13991_mvc0.14845_h0.70000_Ode0.71311_PS_50_z05.npy</td><td>Om0.27744_As2.07233_mva0.13964_mvb0.13991_mvc0.14845_h0.70000_Ode0.71311_PC_S_z05.npy</td></tr>\n",
       "<tr><td>95</td><td>0.44273</td><td>0.3269</td><td>2.6034</td><td>0.8913</td><td>Om0.31717_As2.60343_mva0.14465_mvb0.14491_mvc0.15317_h0.70000_Ode0.67305_PS_50_z05.npy</td><td>Om0.31717_As2.60343_mva0.14465_mvb0.14491_mvc0.15317_h0.70000_Ode0.67305_PC_S_z05.npy</td></tr>\n",
       "<tr><td>96</td><td>0.45988</td><td>0.2237</td><td>1.7667</td><td>0.5066</td><td>Om0.21360_As1.76669_mva0.15048_mvb0.15072_mvc0.15868_h0.70000_Ode0.77624_PS_50_z05.npy</td><td>Om0.21360_As1.76669_mva0.15048_mvb0.15072_mvc0.15868_h0.70000_Ode0.77624_PC_S_z05.npy</td></tr>\n",
       "<tr><td>97</td><td>0.48062</td><td>0.3403</td><td>2.1516</td><td>0.8287</td><td>Om0.32978_As2.15155_mva0.15751_mvb0.15774_mvc0.16537_h0.70000_Ode0.65961_PS_50_z05.npy</td><td>Om0.32978_As2.15155_mva0.15751_mvb0.15774_mvc0.16537_h0.70000_Ode0.65961_PC_S_z05.npy</td></tr>\n",
       "<tr><td>98</td><td>0.50723</td><td>0.2383</td><td>2.7174</td><td>0.6595</td><td>Om0.22711_As2.71739_mva0.16652_mvb0.16674_mvc0.17397_h0.70000_Ode0.76170_PS_50_z05.npy</td><td>Om0.22711_As2.71739_mva0.16652_mvb0.16674_mvc0.17397_h0.70000_Ode0.76170_PC_S_z05.npy</td></tr>\n",
       "<tr><td>99</td><td>0.54543</td><td>0.3617</td><td>2.338</td><td>0.8916</td><td>Om0.34977_As2.33796_mva0.17943_mvb0.17963_mvc0.18636_h0.70000_Ode0.63820_PS_50_z05.npy</td><td>Om0.34977_As2.33796_mva0.17943_mvb0.17963_mvc0.18636_h0.70000_Ode0.63820_PC_S_z05.npy</td></tr>\n",
       "<tr><td>100</td><td>0.62036</td><td>0.3217</td><td>1.9829</td><td>0.7283</td><td>Om0.30805_As1.98287_mva0.20469_mvb0.20487_mvc0.21080_h0.70000_Ode0.67827_PS_50_z05.npy</td><td>Om0.30805_As1.98287_mva0.20469_mvb0.20487_mvc0.21080_h0.70000_Ode0.67827_PC_S_z05.npy</td></tr>\n",
       "</table>"
      ],
      "text/plain": [
       "<Table length=101>\n",
       "   Model     ...\n",
       "   str12     ...\n",
       "------------ ...\n",
       "1a(fiducial) ...\n",
       "1b(fiducial) ...\n",
       "           2 ...\n",
       "           3 ...\n",
       "           4 ...\n",
       "           5 ...\n",
       "           6 ...\n",
       "           7 ...\n",
       "           8 ...\n",
       "           9 ...\n",
       "         ... ...\n",
       "          91 ...\n",
       "          92 ...\n",
       "          93 ...\n",
       "          94 ...\n",
       "          95 ...\n",
       "          96 ...\n",
       "          97 ...\n",
       "          98 ...\n",
       "          99 ...\n",
       "         100 ..."
      ]
     },
     "execution_count": 5,
     "metadata": {},
     "output_type": "execute_result"
    }
   ],
   "source": [
    "table"
   ]
  },
  {
   "cell_type": "code",
   "execution_count": 6,
   "metadata": {
    "collapsed": false
   },
   "outputs": [],
   "source": [
    "table.write('parameters.table', format='ascii', overwrite=True)"
   ]
  },
  {
   "cell_type": "code",
   "execution_count": null,
   "metadata": {
    "collapsed": true
   },
   "outputs": [],
   "source": []
  }
 ],
 "metadata": {
  "kernelspec": {
   "display_name": "Python 3",
   "language": "python",
   "name": "python3"
  },
  "language_info": {
   "codemirror_mode": {
    "name": "ipython",
    "version": 3
   },
   "file_extension": ".py",
   "mimetype": "text/x-python",
   "name": "python",
   "nbconvert_exporter": "python",
   "pygments_lexer": "ipython3",
   "version": "3.6.4"
  }
 },
 "nbformat": 4,
 "nbformat_minor": 2
}
