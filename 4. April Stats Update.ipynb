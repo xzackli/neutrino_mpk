{
 "cells": [
  {
   "cell_type": "code",
   "execution_count": 1,
   "metadata": {},
   "outputs": [],
   "source": [
    "%matplotlib inline \n",
    "%load_ext autoreload\n",
    "%autoreload 2\n",
    "%config InlineBackend.figure_format = 'retina' # I use a HiDPI screen"
   ]
  },
  {
   "cell_type": "code",
   "execution_count": 54,
   "metadata": {},
   "outputs": [],
   "source": [
    "import os\n",
    "import numpy as np \n",
    "import matplotlib.pyplot as plt\n",
    "\n",
    "# inline magic changes figsize, set it again here\n",
    "import matplotlib\n",
    "matplotlib.rcParams['figure.figsize'] = 8,6 \n",
    "default_color_list = plt.rcParams['axes.prop_cycle'].by_key()['color'] # get default colors\n",
    "\n",
    "from astropy.table import Table\n",
    "from astropy.io import ascii\n",
    "import math"
   ]
  },
  {
   "cell_type": "markdown",
   "metadata": {},
   "source": [
    "# File Wrangling"
   ]
  },
  {
   "cell_type": "markdown",
   "metadata": {},
   "source": [
    "Unfortunately, the best way to match the file names to the cosmological parameters text file is to use $A_s$, which we do here. The fiducial models 1a and 1b share the same $A_s$, so we put those in by hand."
   ]
  },
  {
   "cell_type": "code",
   "execution_count": 37,
   "metadata": {},
   "outputs": [],
   "source": [
    "# get all the names of the cosmology folders\n",
    "folders = os.listdir('data/Apr2_stats/Apr2_Spec/')\n",
    "\n",
    "# helper function for extracting the numerical value of As from a filename\n",
    "def get_As( string_with_As ):\n",
    "    return float(string_with_As.split('_As')[1].split('_mva')[0])\n",
    "\n",
    "# read in list of simulation cosmo parameters\n",
    "table = Table.read('cosmological_parameters.txt', format='ascii')\n",
    "\n",
    "# now combine tables\n",
    "new_filename_row = []\n",
    "for row in table:\n",
    "    # match based on 10^9*A_s column name\n",
    "    filename_candidates = [x for x in folders \n",
    "                           if np.isclose(row['10^9*A_s'],get_As(x), atol=1e-4)]\n",
    "    \n",
    "    if '1a(fiducial)' in row['Model']:\n",
    "        fname = 'Om0.29997_As2.10000_mva0.00000_mvb0.00000_mvc0.00000_h0.70000_Ode0.69995'\n",
    "    elif '1b(fiducial)' in row['Model']:\n",
    "        fname = 'Om0.29780_As2.10000_mva0.02175_mvb0.02338_mvc0.05486_h0.70000_Ode0.69995'\n",
    "    else:\n",
    "        # make sure we have exactly one match\n",
    "        assert len(filename_candidates) == 1\n",
    "        fname = filename_candidates[0]\n",
    "        \n",
    "    new_filename_row.append( fname )\n",
    "    \n",
    "table['filename'] = new_filename_row\n",
    "table.write('parameters.table', format='ascii', overwrite=True)"
   ]
  },
  {
   "cell_type": "markdown",
   "metadata": {},
   "source": [
    "# Cube Generating"
   ]
  },
  {
   "cell_type": "code",
   "execution_count": 38,
   "metadata": {},
   "outputs": [],
   "source": [
    "ngal_dict = {\n",
    "    '05' : '08.83',\n",
    "    '10' : '13.25',\n",
    "    '15' : '11.15',\n",
    "    '20' : '07.36',\n",
    "    '25' : '04.26'\n",
    "}\n",
    "\n",
    "table = ascii.read('parameters.table')"
   ]
  },
  {
   "cell_type": "code",
   "execution_count": 55,
   "metadata": {},
   "outputs": [],
   "source": [
    "def get_observable(observable_name, redshift, smoothing):\n",
    "    \"\"\"\n",
    "    observable_name (str) : 'PC' or 'Spec'\n",
    "    redshifts (str): ex. '05'\n",
    "    smoothing (float) : s0.00\n",
    "    \n",
    "    returns: tuple,\n",
    "        (array (either ell or kappa), array(mean_stack))\n",
    "        where mean_stack is 101 rows, stacked PS or PC\n",
    "    \"\"\"\n",
    "    \n",
    "    mean_stack_list = []\n",
    "    \n",
    "    for row in table:\n",
    "        fdir = 'data/Apr2_stats/Apr2_%s/%s/Maps%s/' % (observable_name,  row[filename], redshift)\n",
    "        fname = \n",
    "        obs_array_temp = np.load(fstr)\n",
    "        bin_centers = fstr[:,0]\n",
    "        observable = fstr[:,1]\n",
    "        mean_stack_list.append(observable)\n",
    "        \n",
    "    return bin_centers, np.vstack(mean_stack_list)\n",
    "        "
   ]
  },
  {
   "cell_type": "code",
   "execution_count": 58,
   "metadata": {},
   "outputs": [
    {
     "data": {
      "text/plain": [
       "'2.503.50'"
      ]
     },
     "execution_count": 58,
     "metadata": {},
     "output_type": "execute_result"
    }
   ],
   "source": [
    "'%1.2f%1.2f' % (2.5, 3.5)"
   ]
  },
  {
   "cell_type": "code",
   "execution_count": 60,
   "metadata": {},
   "outputs": [
    {
     "data": {
      "text/plain": [
       "'testtest'"
      ]
     },
     "execution_count": 60,
     "metadata": {},
     "output_type": "execute_result"
    }
   ],
   "source": [
    "'%s' % 'testtest'"
   ]
  },
  {
   "cell_type": "code",
   "execution_count": 62,
   "metadata": {},
   "outputs": [
    {
     "data": {
      "text/plain": [
       "'003'"
      ]
     },
     "execution_count": 62,
     "metadata": {},
     "output_type": "execute_result"
    }
   ],
   "source": [
    "'%03d' % 3"
   ]
  },
  {
   "cell_type": "code",
   "execution_count": null,
   "metadata": {},
   "outputs": [],
   "source": []
  }
 ],
 "metadata": {
  "kernelspec": {
   "display_name": "Python 3",
   "language": "python",
   "name": "python3"
  },
  "language_info": {
   "codemirror_mode": {
    "name": "ipython",
    "version": 3
   },
   "file_extension": ".py",
   "mimetype": "text/x-python",
   "name": "python",
   "nbconvert_exporter": "python",
   "pygments_lexer": "ipython3",
   "version": "3.6.4"
  }
 },
 "nbformat": 4,
 "nbformat_minor": 2
}
