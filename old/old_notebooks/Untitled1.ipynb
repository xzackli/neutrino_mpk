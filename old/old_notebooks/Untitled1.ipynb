{
 "cells": [
  {
   "cell_type": "code",
   "execution_count": 4,
   "metadata": {},
   "outputs": [],
   "source": [
    "%matplotlib inline\n",
    "%config InlineBackend.figure_format = 'retina' # I use a HiDPI screen"
   ]
  },
  {
   "cell_type": "code",
   "execution_count": 10,
   "metadata": {},
   "outputs": [],
   "source": [
    "\n",
    "import os\n",
    "import numpy as np\n",
    "import matplotlib.pyplot as plt\n",
    "import file_loading\n",
    "from scipy.interpolate import Rbf\n",
    "from multiprocessing import Pool\n",
    "from astropy.io import ascii\n",
    "from forecast import build_interp_zack\n",
    "from forecast import findlevel\n",
    "from forecast import plot_cube"
   ]
  },
  {
   "cell_type": "code",
   "execution_count": 11,
   "metadata": {
    "collapsed": true
   },
   "outputs": [],
   "source": [
    "nres = 50\n",
    "computing_PS_flag = True\n",
    "computing_PC_flag = True"
   ]
  },
  {
   "cell_type": "markdown",
   "metadata": {},
   "source": [
    "### 1. PS/PC, cut at ellmax=5000, for single redshift (ngal40)"
   ]
  },
  {
   "cell_type": "code",
   "execution_count": 21,
   "metadata": {},
   "outputs": [
    {
     "name": "stdout",
     "output_type": "stream",
     "text": [
      "('PS bins', [24])\n",
      "('PC bins', [184])\n",
      "('PS nr', 1000, 'nb', 24, 0)\n",
      "('PC nr', 1000, 'nb', 184, 0)\n"
     ]
    },
    {
     "ename": "ValueError",
     "evalue": "All arrays must be equal length.",
     "output_type": "error",
     "traceback": [
      "\u001b[0;31m---------------------------------------------------------------------------\u001b[0m",
      "\u001b[0;31mValueError\u001b[0m                                Traceback (most recent call last)",
      "\u001b[0;32m<ipython-input-21-283806ffd21a>\u001b[0m in \u001b[0;36m<module>\u001b[0;34m()\u001b[0m\n\u001b[0;32m----> 1\u001b[0;31m \u001b[0mget_ipython\u001b[0m\u001b[0;34m(\u001b[0m\u001b[0;34m)\u001b[0m\u001b[0;34m.\u001b[0m\u001b[0mrun_cell_magic\u001b[0m\u001b[0;34m(\u001b[0m\u001b[0;34mu'time'\u001b[0m\u001b[0;34m,\u001b[0m \u001b[0;34mu''\u001b[0m\u001b[0;34m,\u001b[0m \u001b[0;34mu\"output_cube_name = '1ngal40'\\ndata_dir = '/home/zequnl/Projects/neutrino_mpk/'\\ntable = ascii.read('parameters.table')\\n\\nparams, obsarr_PS, obsarr_PC, ell, kappa, invcov_PS, invcov_PC = \\\\\\n                file_loading.get_data_arrays_across_redshifts( table,\\n                    data_dir = data_dir,\\n                    PS_directory = data_dir + 'powerspectrum_ngal40', \\n                    PC_directory = data_dir + 'peakcounts_ngal40',\\n                    redshifts = ['10'])\\n\\n# we overwrite the inverse covariance matrix with the new one\\n# NOTE: ngal40 requires a special string!\\n# invcov_PC = file_loading.compute_custom_PC_cov(  ['10'], \\n#      fid_string='Om0.29997_As2.10000_mva0.00000_mvb0.00000_mvc0.00000_h0.70000_Ode0.69995_PC_S_z10_cov_ngal40.npy')\\n\\n    \\n# set up grid\\n\\nx_PS = np.linspace(0.1 - 0.04, 0.1 + 0.13, nres) # M_nu\\ny_PS = np.linspace(0.3 - 0.012, 0.3 + 0.01, nres) # omega_m\\nz_PS = np.linspace(0.8295 - 0.012, 0.8295 + 0.016, nres) # sigma_8\\nX_PS, Y_PS, Z_PS = np.meshgrid(x_PS, y_PS, z_PS, indexing='ij')\\ninput_param_list_PS = list(zip(np.ravel(X_PS), np.ravel(Y_PS), np.ravel(Z_PS)))\\n\\nx_PC = np.linspace(0.1 - 0.01, 0.1 + 0.01, nres) # M_nu\\ny_PC = np.linspace(0.3 - 0.003, 0.3 + 0.003, nres) # omega_m\\nz_PC = np.linspace(0.8295 - 0.005, 0.8295 + 0.005, nres) # sigma_8\\nX_PC, Y_PC, Z_PC = np.meshgrid(x_PC, y_PC, z_PC, indexing='ij')\\ninput_param_list_PC = list(zip(np.ravel(X_PC), np.ravel(Y_PC), np.ravel(Z_PC)))\\n\\n# ----- BOILER PLATE STUFF BEGINS HERE\\n\\n# set up interpolator\\ninterp_PS = build_interp_zack(obsarr_PS, params)\\ninterp_PC = build_interp_zack(obsarr_PC, params)\\n\\ndef P_PS( parameter_input ):\\n    my_interp = interp_PS;\\n    my_invcov = invcov_PS\\n    my_fid_model = obsarr_PS[1]\\n    \\n    dm = my_fid_model - my_interp( parameter_input ) # d - mu\\n    return np.exp( -0.5 * np.dot(dm.T,np.dot(my_invcov,dm)) )\\n\\ndef P_PC( parameter_input ):\\n    my_interp = interp_PC\\n    my_invcov = invcov_PC\\n    my_fid_model = obsarr_PC[1]\\n    \\n    dm = my_fid_model - my_interp( parameter_input ) # d - mu\\n    return np.exp( -0.5 * np.dot(dm.T,np.dot(my_invcov,dm)) )\\n\\n# if __name__ == '__main__':\\n#     if computing_PS_flag:\\n#         pool = Pool(16)\\n#         PS_cube = np.array(pool.map(P_PS, input_param_list_PS))\\n#         PS_cube = PS_cube.reshape(X_PS.shape)\\n#         pool.close()\\n#         np.save( 'cubes/' + output_cube_name + '_PS.npy', PS_cube )\\n#         np.save( 'cubes/' + output_cube_name + '_PS_xyz.npy', np.array([x_PS,y_PS,z_PS]) )\\n        \\n#     if computing_PC_flag:\\n#         pool = Pool(16)\\n#         PC_cube = np.array(pool.map(P_PC, input_param_list_PC))\\n#         PC_cube = PC_cube.reshape(X_PC.shape)\\n#         pool.close()\\n#         np.save( 'cubes/' + output_cube_name + '_PC.npy', PC_cube )\\n#         np.save( 'cubes/' + output_cube_name + '_PC_xyz.npy', np.array([x_PC,y_PC,z_PC]) )\"\u001b[0m\u001b[0;34m)\u001b[0m\u001b[0;34m\u001b[0m\u001b[0m\n\u001b[0m",
      "\u001b[0;32m/home/zequnl/anaconda2/envs/py27/lib/python2.7/site-packages/IPython/core/interactiveshell.pyc\u001b[0m in \u001b[0;36mrun_cell_magic\u001b[0;34m(self, magic_name, line, cell)\u001b[0m\n\u001b[1;32m   2115\u001b[0m             \u001b[0mmagic_arg_s\u001b[0m \u001b[0;34m=\u001b[0m \u001b[0mself\u001b[0m\u001b[0;34m.\u001b[0m\u001b[0mvar_expand\u001b[0m\u001b[0;34m(\u001b[0m\u001b[0mline\u001b[0m\u001b[0;34m,\u001b[0m \u001b[0mstack_depth\u001b[0m\u001b[0;34m)\u001b[0m\u001b[0;34m\u001b[0m\u001b[0m\n\u001b[1;32m   2116\u001b[0m             \u001b[0;32mwith\u001b[0m \u001b[0mself\u001b[0m\u001b[0;34m.\u001b[0m\u001b[0mbuiltin_trap\u001b[0m\u001b[0;34m:\u001b[0m\u001b[0;34m\u001b[0m\u001b[0m\n\u001b[0;32m-> 2117\u001b[0;31m                 \u001b[0mresult\u001b[0m \u001b[0;34m=\u001b[0m \u001b[0mfn\u001b[0m\u001b[0;34m(\u001b[0m\u001b[0mmagic_arg_s\u001b[0m\u001b[0;34m,\u001b[0m \u001b[0mcell\u001b[0m\u001b[0;34m)\u001b[0m\u001b[0;34m\u001b[0m\u001b[0m\n\u001b[0m\u001b[1;32m   2118\u001b[0m             \u001b[0;32mreturn\u001b[0m \u001b[0mresult\u001b[0m\u001b[0;34m\u001b[0m\u001b[0m\n\u001b[1;32m   2119\u001b[0m \u001b[0;34m\u001b[0m\u001b[0m\n",
      "\u001b[0;32m<decorator-gen-60>\u001b[0m in \u001b[0;36mtime\u001b[0;34m(self, line, cell, local_ns)\u001b[0m\n",
      "\u001b[0;32m/home/zequnl/anaconda2/envs/py27/lib/python2.7/site-packages/IPython/core/magic.pyc\u001b[0m in \u001b[0;36m<lambda>\u001b[0;34m(f, *a, **k)\u001b[0m\n\u001b[1;32m    186\u001b[0m     \u001b[0;31m# but it's overkill for just that one bit of state.\u001b[0m\u001b[0;34m\u001b[0m\u001b[0;34m\u001b[0m\u001b[0m\n\u001b[1;32m    187\u001b[0m     \u001b[0;32mdef\u001b[0m \u001b[0mmagic_deco\u001b[0m\u001b[0;34m(\u001b[0m\u001b[0marg\u001b[0m\u001b[0;34m)\u001b[0m\u001b[0;34m:\u001b[0m\u001b[0;34m\u001b[0m\u001b[0m\n\u001b[0;32m--> 188\u001b[0;31m         \u001b[0mcall\u001b[0m \u001b[0;34m=\u001b[0m \u001b[0;32mlambda\u001b[0m \u001b[0mf\u001b[0m\u001b[0;34m,\u001b[0m \u001b[0;34m*\u001b[0m\u001b[0ma\u001b[0m\u001b[0;34m,\u001b[0m \u001b[0;34m**\u001b[0m\u001b[0mk\u001b[0m\u001b[0;34m:\u001b[0m \u001b[0mf\u001b[0m\u001b[0;34m(\u001b[0m\u001b[0;34m*\u001b[0m\u001b[0ma\u001b[0m\u001b[0;34m,\u001b[0m \u001b[0;34m**\u001b[0m\u001b[0mk\u001b[0m\u001b[0;34m)\u001b[0m\u001b[0;34m\u001b[0m\u001b[0m\n\u001b[0m\u001b[1;32m    189\u001b[0m \u001b[0;34m\u001b[0m\u001b[0m\n\u001b[1;32m    190\u001b[0m         \u001b[0;32mif\u001b[0m \u001b[0mcallable\u001b[0m\u001b[0;34m(\u001b[0m\u001b[0marg\u001b[0m\u001b[0;34m)\u001b[0m\u001b[0;34m:\u001b[0m\u001b[0;34m\u001b[0m\u001b[0m\n",
      "\u001b[0;32m/home/zequnl/anaconda2/envs/py27/lib/python2.7/site-packages/IPython/core/magics/execution.pyc\u001b[0m in \u001b[0;36mtime\u001b[0;34m(self, line, cell, local_ns)\u001b[0m\n\u001b[1;32m   1183\u001b[0m         \u001b[0;32melse\u001b[0m\u001b[0;34m:\u001b[0m\u001b[0;34m\u001b[0m\u001b[0m\n\u001b[1;32m   1184\u001b[0m             \u001b[0mst\u001b[0m \u001b[0;34m=\u001b[0m \u001b[0mclock2\u001b[0m\u001b[0;34m(\u001b[0m\u001b[0;34m)\u001b[0m\u001b[0;34m\u001b[0m\u001b[0m\n\u001b[0;32m-> 1185\u001b[0;31m             \u001b[0;32mexec\u001b[0m\u001b[0;34m(\u001b[0m\u001b[0mcode\u001b[0m\u001b[0;34m,\u001b[0m \u001b[0mglob\u001b[0m\u001b[0;34m,\u001b[0m \u001b[0mlocal_ns\u001b[0m\u001b[0;34m)\u001b[0m\u001b[0;34m\u001b[0m\u001b[0m\n\u001b[0m\u001b[1;32m   1186\u001b[0m             \u001b[0mend\u001b[0m \u001b[0;34m=\u001b[0m \u001b[0mclock2\u001b[0m\u001b[0;34m(\u001b[0m\u001b[0;34m)\u001b[0m\u001b[0;34m\u001b[0m\u001b[0m\n\u001b[1;32m   1187\u001b[0m             \u001b[0mout\u001b[0m \u001b[0;34m=\u001b[0m \u001b[0mNone\u001b[0m\u001b[0;34m\u001b[0m\u001b[0m\n",
      "\u001b[0;32m<timed exec>\u001b[0m in \u001b[0;36m<module>\u001b[0;34m()\u001b[0m\n",
      "\u001b[0;32m/home/zequnl/Projects/neutrino_mpk/forecast.py\u001b[0m in \u001b[0;36mbuild_interp_zack\u001b[0;34m(obs_arr, cosmo_params, function, smooth)\u001b[0m\n\u001b[1;32m     40\u001b[0m     \u001b[0;31m# create a list of Rbf for each independent mode\u001b[0m\u001b[0;34m\u001b[0m\u001b[0;34m\u001b[0m\u001b[0m\n\u001b[1;32m     41\u001b[0m     spline_interps = [ interpolate.Rbf(*cosmo_params.T, model, \n\u001b[0;32m---> 42\u001b[0;31m                                        function=function, smooth=smooth) for model in obs_arr.T ]\n\u001b[0m\u001b[1;32m     43\u001b[0m \u001b[0;34m\u001b[0m\u001b[0m\n\u001b[1;32m     44\u001b[0m     \u001b[0;31m# return a function that applies Rbf to the parameters given, for each mode\u001b[0m\u001b[0;34m\u001b[0m\u001b[0;34m\u001b[0m\u001b[0m\n",
      "\u001b[0;32m/home/zequnl/anaconda2/envs/py27/lib/python2.7/site-packages/scipy/interpolate/rbf.pyc\u001b[0m in \u001b[0;36m__init__\u001b[0;34m(self, *args, **kwargs)\u001b[0m\n\u001b[1;32m    195\u001b[0m \u001b[0;34m\u001b[0m\u001b[0m\n\u001b[1;32m    196\u001b[0m         \u001b[0;32mif\u001b[0m \u001b[0;32mnot\u001b[0m \u001b[0mall\u001b[0m\u001b[0;34m(\u001b[0m\u001b[0;34m[\u001b[0m\u001b[0mx\u001b[0m\u001b[0;34m.\u001b[0m\u001b[0msize\u001b[0m \u001b[0;34m==\u001b[0m \u001b[0mself\u001b[0m\u001b[0;34m.\u001b[0m\u001b[0mdi\u001b[0m\u001b[0;34m.\u001b[0m\u001b[0msize\u001b[0m \u001b[0;32mfor\u001b[0m \u001b[0mx\u001b[0m \u001b[0;32min\u001b[0m \u001b[0mself\u001b[0m\u001b[0;34m.\u001b[0m\u001b[0mxi\u001b[0m\u001b[0;34m]\u001b[0m\u001b[0;34m)\u001b[0m\u001b[0;34m:\u001b[0m\u001b[0;34m\u001b[0m\u001b[0m\n\u001b[0;32m--> 197\u001b[0;31m             \u001b[0;32mraise\u001b[0m \u001b[0mValueError\u001b[0m\u001b[0;34m(\u001b[0m\u001b[0;34m\"All arrays must be equal length.\"\u001b[0m\u001b[0;34m)\u001b[0m\u001b[0;34m\u001b[0m\u001b[0m\n\u001b[0m\u001b[1;32m    198\u001b[0m \u001b[0;34m\u001b[0m\u001b[0m\n\u001b[1;32m    199\u001b[0m         \u001b[0mself\u001b[0m\u001b[0;34m.\u001b[0m\u001b[0mnorm\u001b[0m \u001b[0;34m=\u001b[0m \u001b[0mkwargs\u001b[0m\u001b[0;34m.\u001b[0m\u001b[0mpop\u001b[0m\u001b[0;34m(\u001b[0m\u001b[0;34m'norm'\u001b[0m\u001b[0;34m,\u001b[0m \u001b[0mself\u001b[0m\u001b[0;34m.\u001b[0m\u001b[0m_euclidean_norm\u001b[0m\u001b[0;34m)\u001b[0m\u001b[0;34m\u001b[0m\u001b[0m\n",
      "\u001b[0;31mValueError\u001b[0m: All arrays must be equal length."
     ]
    }
   ],
   "source": [
    "%%time\n",
    "output_cube_name = '1ngal40'\n",
    "data_dir = '/home/zequnl/Projects/neutrino_mpk/'\n",
    "table = ascii.read('parameters.table')\n",
    "\n",
    "params, obsarr_PS, obsarr_PC, ell, kappa, invcov_PS, invcov_PC = \\\n",
    "                file_loading.get_data_arrays_across_redshifts( table,\n",
    "                    data_dir = data_dir,\n",
    "                    PS_directory = data_dir + 'powerspectrum_ngal40', \n",
    "                    PC_directory = data_dir + 'peakcounts_ngal40',\n",
    "                    redshifts = ['10'])\n",
    "\n",
    "# we overwrite the inverse covariance matrix with the new one\n",
    "# NOTE: ngal40 requires a special string!\n",
    "# invcov_PC = file_loading.compute_custom_PC_cov(  ['10'], \n",
    "#      fid_string='Om0.29997_As2.10000_mva0.00000_mvb0.00000_mvc0.00000_h0.70000_Ode0.69995_PC_S_z10_cov_ngal40.npy')\n",
    "\n",
    "    \n",
    "# set up grid\n",
    "\n",
    "x_PS = np.linspace(0.1 - 0.04, 0.1 + 0.13, nres) # M_nu\n",
    "y_PS = np.linspace(0.3 - 0.012, 0.3 + 0.01, nres) # omega_m\n",
    "z_PS = np.linspace(0.8295 - 0.012, 0.8295 + 0.016, nres) # sigma_8\n",
    "X_PS, Y_PS, Z_PS = np.meshgrid(x_PS, y_PS, z_PS, indexing='ij')\n",
    "input_param_list_PS = list(zip(np.ravel(X_PS), np.ravel(Y_PS), np.ravel(Z_PS)))\n",
    "\n",
    "x_PC = np.linspace(0.1 - 0.01, 0.1 + 0.01, nres) # M_nu\n",
    "y_PC = np.linspace(0.3 - 0.003, 0.3 + 0.003, nres) # omega_m\n",
    "z_PC = np.linspace(0.8295 - 0.005, 0.8295 + 0.005, nres) # sigma_8\n",
    "X_PC, Y_PC, Z_PC = np.meshgrid(x_PC, y_PC, z_PC, indexing='ij')\n",
    "input_param_list_PC = list(zip(np.ravel(X_PC), np.ravel(Y_PC), np.ravel(Z_PC)))\n",
    "\n",
    "# ----- BOILER PLATE STUFF BEGINS HERE\n",
    "\n",
    "# set up interpolator\n",
    "interp_PS = build_interp_zack(obsarr_PS, params)\n",
    "interp_PC = build_interp_zack(obsarr_PC, params)\n",
    "\n",
    "def P_PS( parameter_input ):\n",
    "    my_interp = interp_PS;\n",
    "    my_invcov = invcov_PS\n",
    "    my_fid_model = obsarr_PS[1]\n",
    "    \n",
    "    dm = my_fid_model - my_interp( parameter_input ) # d - mu\n",
    "    return np.exp( -0.5 * np.dot(dm.T,np.dot(my_invcov,dm)) )\n",
    "\n",
    "def P_PC( parameter_input ):\n",
    "    my_interp = interp_PC\n",
    "    my_invcov = invcov_PC\n",
    "    my_fid_model = obsarr_PC[1]\n",
    "    \n",
    "    dm = my_fid_model - my_interp( parameter_input ) # d - mu\n",
    "    return np.exp( -0.5 * np.dot(dm.T,np.dot(my_invcov,dm)) )\n",
    "\n",
    "# if __name__ == '__main__':\n",
    "#     if computing_PS_flag:\n",
    "#         pool = Pool(16)\n",
    "#         PS_cube = np.array(pool.map(P_PS, input_param_list_PS))\n",
    "#         PS_cube = PS_cube.reshape(X_PS.shape)\n",
    "#         pool.close()\n",
    "#         np.save( 'cubes/' + output_cube_name + '_PS.npy', PS_cube )\n",
    "#         np.save( 'cubes/' + output_cube_name + '_PS_xyz.npy', np.array([x_PS,y_PS,z_PS]) )\n",
    "        \n",
    "#     if computing_PC_flag:\n",
    "#         pool = Pool(16)\n",
    "#         PC_cube = np.array(pool.map(P_PC, input_param_list_PC))\n",
    "#         PC_cube = PC_cube.reshape(X_PC.shape)\n",
    "#         pool.close()\n",
    "#         np.save( 'cubes/' + output_cube_name + '_PC.npy', PC_cube )\n",
    "#         np.save( 'cubes/' + output_cube_name + '_PC_xyz.npy', np.array([x_PC,y_PC,z_PC]) )"
   ]
  },
  {
   "cell_type": "code",
   "execution_count": 30,
   "metadata": {},
   "outputs": [
    {
     "ename": "SyntaxError",
     "evalue": "only named arguments may follow *expression (<ipython-input-30-f725deabdb24>, line 11)",
     "output_type": "error",
     "traceback": [
      "\u001b[0;36m  File \u001b[0;32m\"<ipython-input-30-f725deabdb24>\"\u001b[0;36m, line \u001b[0;32m11\u001b[0m\n\u001b[0;31m    interpolate.Rbf(*params.T, obsarr_PS.T[0])\u001b[0m\n\u001b[0;31mSyntaxError\u001b[0m\u001b[0;31m:\u001b[0m only named arguments may follow *expression\n"
     ]
    }
   ],
   "source": [
    "\n",
    "from scipy import interpolate, stats\n",
    "function='multiquadric'\n",
    "smooth=0.0\n",
    "\n",
    "print(params.shape)\n",
    "\n",
    "# # create a list of Rbf for each independent mode\n",
    "# spline_interps = [ interpolate.Rbf(params.T, model, \n",
    "#                    function=function, smooth=smooth) for model in obsarr_PS.T ]\n",
    "interpolate.Rbf(*params.T, obsarr_PS.T[0]) \n",
    "#     # return a function that applies Rbf to the parameters given, for each mode\n",
    "#     return lambda params: np.array([ii(*params) for ii in spline_interps])"
   ]
  },
  {
   "cell_type": "code",
   "execution_count": 29,
   "metadata": {},
   "outputs": [
    {
     "data": {
      "text/plain": [
       "array([[ 0.     ,  0.3    ,  0.8523 ],\n",
       "       [ 0.1    ,  0.3    ,  0.8295 ],\n",
       "       [ 0.06271,  0.3815 ,  1.0135 ],\n",
       "       [ 0.06522,  0.2821 ,  0.7563 ],\n",
       "       [ 0.06773,  0.4159 ,  0.9171 ],\n",
       "       [ 0.07024,  0.2023 ,  0.6231 ],\n",
       "       [ 0.07275,  0.3283 ,  0.9324 ],\n",
       "       [ 0.07526,  0.3355 ,  0.7828 ],\n",
       "       [ 0.07778,  0.2597 ,  0.8008 ],\n",
       "       [ 0.0803 ,  0.2783 ,  0.8382 ],\n",
       "       [ 0.08282,  0.2758 ,  0.7285 ],\n",
       "       [ 0.08535,  0.3132 ,  0.8378 ],\n",
       "       [ 0.08788,  0.2926 ,  0.7429 ],\n",
       "       [ 0.09041,  0.2845 ,  0.8126 ],\n",
       "       [ 0.09295,  0.3155 ,  0.9411 ],\n",
       "       [ 0.0955 ,  0.359  ,  1.0231 ],\n",
       "       [ 0.09805,  0.3006 ,  0.8059 ],\n",
       "       [ 0.10061,  0.2796 ,  0.769  ],\n",
       "       [ 0.10318,  0.3977 ,  1.0456 ],\n",
       "       [ 0.10575,  0.3051 ,  0.8004 ],\n",
       "       [ 0.10833,  0.2833 ,  0.8385 ],\n",
       "       [ 0.11092,  0.3763 ,  0.9574 ],\n",
       "       [ 0.11351,  0.1841 ,  0.4885 ],\n",
       "       [ 0.11612,  0.3085 ,  0.7821 ],\n",
       "       [ 0.11874,  0.3143 ,  0.8358 ],\n",
       "       [ 0.12136,  0.3457 ,  0.8811 ],\n",
       "       [ 0.124  ,  0.3028 ,  0.8714 ],\n",
       "       [ 0.12665,  0.2704 ,  0.7324 ],\n",
       "       [ 0.12931,  0.2983 ,  0.8445 ],\n",
       "       [ 0.13198,  0.2543 ,  0.5618 ],\n",
       "       [ 0.13467,  0.3438 ,  0.8934 ],\n",
       "       [ 0.13737,  0.3564 ,  0.8292 ],\n",
       "       [ 0.14008,  0.304  ,  0.8318 ],\n",
       "       [ 0.14281,  0.3167 ,  0.8656 ],\n",
       "       [ 0.14556,  0.2689 ,  0.7635 ],\n",
       "       [ 0.14832,  0.2613 ,  0.6891 ],\n",
       "       [ 0.1511 ,  0.3518 ,  0.9494 ],\n",
       "       [ 0.15389,  0.312  ,  0.8307 ],\n",
       "       [ 0.15671,  0.2579 ,  0.7256 ],\n",
       "       [ 0.15954,  0.2319 ,  0.6145 ],\n",
       "       [ 0.1624 ,  0.3311 ,  0.8779 ],\n",
       "       [ 0.16527,  0.3062 ,  0.849  ],\n",
       "       [ 0.16817,  0.2675 ,  0.7072 ],\n",
       "       [ 0.17109,  0.3074 ,  0.8931 ],\n",
       "       [ 0.17404,  0.3204 ,  0.8444 ],\n",
       "       [ 0.17701,  0.2524 ,  0.6944 ],\n",
       "       [ 0.18001,  0.2994 ,  0.7156 ],\n",
       "       [ 0.18303,  0.3387 ,  0.8705 ],\n",
       "       [ 0.18608,  0.2717 ,  0.8178 ],\n",
       "       [ 0.18917,  0.3371 ,  0.977  ],\n",
       "       [ 0.19228,  0.2562 ,  0.7308 ],\n",
       "       [ 0.19543,  0.3242 ,  0.8143 ],\n",
       "       [ 0.19861,  0.2281 ,  0.5664 ],\n",
       "       [ 0.20183,  0.246  ,  0.7474 ],\n",
       "       [ 0.20508,  0.2949 ,  0.7912 ],\n",
       "       [ 0.20837,  0.2938 ,  0.825  ],\n",
       "       [ 0.21171,  0.3192 ,  0.9905 ],\n",
       "       [ 0.21508,  0.277  ,  0.6394 ],\n",
       "       [ 0.21851,  0.2903 ,  0.7464 ],\n",
       "       [ 0.22198,  0.323  ,  0.8133 ],\n",
       "       [ 0.2255 ,  0.3296 ,  0.9192 ],\n",
       "       [ 0.22907,  0.3648 ,  0.972  ],\n",
       "       [ 0.2327 ,  0.3476 ,  0.7488 ],\n",
       "       [ 0.23638,  0.3882 ,  0.9827 ],\n",
       "       [ 0.24013,  0.2482 ,  0.7188 ],\n",
       "       [ 0.24394,  0.288  ,  0.8523 ],\n",
       "       [ 0.24782,  0.3179 ,  0.8643 ],\n",
       "       [ 0.25177,  0.266  ,  0.6891 ],\n",
       "       [ 0.2558 ,  0.2436 ,  0.6641 ],\n",
       "       [ 0.25991,  0.296  ,  0.88   ],\n",
       "       [ 0.26411,  0.3421 ,  0.9486 ],\n",
       "       [ 0.2684 ,  0.3017 ,  0.7927 ],\n",
       "       [ 0.27278,  0.2915 ,  0.6946 ],\n",
       "       [ 0.27728,  0.3256 ,  0.8337 ],\n",
       "       [ 0.28188,  0.2744 ,  0.7446 ],\n",
       "       [ 0.28661,  0.2629 ,  0.6528 ],\n",
       "       [ 0.29147,  0.3108 ,  0.8359 ],\n",
       "       [ 0.29647,  0.2352 ,  0.5813 ],\n",
       "       [ 0.30162,  0.2185 ,  0.6205 ],\n",
       "       [ 0.30694,  0.3681 ,  0.9964 ],\n",
       "       [ 0.31244,  0.2118 ,  0.6234 ],\n",
       "       [ 0.31814,  0.2504 ,  0.6564 ],\n",
       "       [ 0.32406,  0.334  ,  0.7701 ],\n",
       "       [ 0.33021,  0.3325 ,  0.8184 ],\n",
       "       [ 0.33664,  0.2892 ,  0.7508 ],\n",
       "       [ 0.34337,  0.241  ,  0.6462 ],\n",
       "       [ 0.35044,  0.2645 ,  0.6958 ],\n",
       "       [ 0.35789,  0.3496 ,  0.7965 ],\n",
       "       [ 0.36578,  0.2808 ,  0.6483 ],\n",
       "       [ 0.37417,  0.2972 ,  0.8684 ],\n",
       "       [ 0.38317,  0.2857 ,  0.5964 ],\n",
       "       [ 0.39287,  0.2731 ,  0.6595 ],\n",
       "       [ 0.40343,  0.354  ,  0.7521 ],\n",
       "       [ 0.41504,  0.3097 ,  0.8157 ],\n",
       "       [ 0.428  ,  0.2868 ,  0.7132 ],\n",
       "       [ 0.44273,  0.3269 ,  0.8913 ],\n",
       "       [ 0.45988,  0.2237 ,  0.5066 ],\n",
       "       [ 0.48062,  0.3403 ,  0.8287 ],\n",
       "       [ 0.50723,  0.2383 ,  0.6595 ],\n",
       "       [ 0.54543,  0.3617 ,  0.8916 ],\n",
       "       [ 0.62036,  0.3217 ,  0.7283 ]])"
      ]
     },
     "execution_count": 29,
     "metadata": {},
     "output_type": "execute_result"
    }
   ],
   "source": [
    "params"
   ]
  },
  {
   "cell_type": "code",
   "execution_count": null,
   "metadata": {
    "collapsed": true
   },
   "outputs": [],
   "source": []
  }
 ],
 "metadata": {
  "kernelspec": {
   "display_name": "Python 3",
   "language": "python",
   "name": "python3"
  },
  "language_info": {
   "codemirror_mode": {
    "name": "ipython",
    "version": 2
   },
   "file_extension": ".py",
   "mimetype": "text/x-python",
   "name": "python",
   "nbconvert_exporter": "python",
   "pygments_lexer": "ipython2",
   "version": "2.7.14"
  }
 },
 "nbformat": 4,
 "nbformat_minor": 2
}
