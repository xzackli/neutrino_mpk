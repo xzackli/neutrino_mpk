{
 "cells": [
  {
   "cell_type": "code",
   "execution_count": 2,
   "metadata": {
    "collapsed": false
   },
   "outputs": [],
   "source": [
    "%matplotlib inline\n",
    "%config InlineBackend.figure_format = 'retina' # I use a HiDPI screen\n",
    "\n",
    "import os\n",
    "import numpy as np\n",
    "import matplotlib.pyplot as plt\n",
    "import file_loading\n",
    "from scipy.interpolate import Rbf\n",
    "from multiprocessing import Pool\n",
    "from astropy.io import ascii\n",
    "\n",
    "from forecast import build_interp_zack\n",
    "from forecast import findlevel\n",
    "from forecast import plot_cube"
   ]
  },
  {
   "cell_type": "code",
   "execution_count": 9,
   "metadata": {
    "collapsed": true
   },
   "outputs": [],
   "source": [
    "nres = 20\n",
    "computing_PS_flag = True\n",
    "computing_PC_flag = False"
   ]
  },
  {
   "cell_type": "markdown",
   "metadata": {},
   "source": [
    "### 1. PS/PC, cut at ellmax=5000, for single redshift (ngal40)"
   ]
  },
  {
   "cell_type": "code",
   "execution_count": null,
   "metadata": {
    "collapsed": true
   },
   "outputs": [],
   "source": []
  },
  {
   "cell_type": "code",
   "execution_count": null,
   "metadata": {
    "collapsed": false
   },
   "outputs": [
    {
     "name": "stdout",
     "output_type": "stream",
     "text": [
      "PS bins [24]\n",
      "PC bins [184]\n",
      "PS nr 1000 nb 24 0.974974974974975\n",
      "PC nr 1000 nb 184 0.8148148148148148\n"
     ]
    }
   ],
   "source": [
    "%%time\n",
    "output_cube_name = '1ngal40'\n",
    "data_dir = '/home/zequnl/Projects/neutrino_mpk/'\n",
    "table = ascii.read('parameters.table')\n",
    "\n",
    "params, obsarr_PS, obsarr_PC, ell, kappa, invcov_PS, invcov_PC = \\\n",
    "                file_loading.get_data_arrays_across_redshifts( table,\n",
    "                    data_dir = data_dir,\n",
    "                    PS_directory = data_dir + 'powerspectrum_ngal40', \n",
    "                    PC_directory = data_dir + 'peakcounts_ngal40',\n",
    "                    redshifts = ['10'])\n",
    "\n",
    "# we overwrite the inverse covariance matrix with the new one\n",
    "# NOTE: ngal40 requires a special string!\n",
    "# invcov_PC = file_loading.compute_custom_PC_cov(  ['10'], \n",
    "#      fid_string='Om0.29997_As2.10000_mva0.00000_mvb0.00000_mvc0.00000_h0.70000_Ode0.69995_PC_S_z10_cov_ngal40.npy')\n",
    "\n",
    "    \n",
    "# set up grid\n",
    "\n",
    "x_PS = np.linspace(0.1 - 0.04, 0.1 + 0.13, nres) # M_nu\n",
    "y_PS = np.linspace(0.3 - 0.012, 0.3 + 0.01, nres) # omega_m\n",
    "z_PS = np.linspace(0.8295 - 0.012, 0.8295 + 0.016, nres) # sigma_8\n",
    "X_PS, Y_PS, Z_PS = np.meshgrid(x_PS, y_PS, z_PS, indexing='ij')\n",
    "input_param_list_PS = list(zip(np.ravel(X_PS), np.ravel(Y_PS), np.ravel(Z_PS)))\n",
    "\n",
    "x_PC = np.linspace(0.1 - 0.01, 0.1 + 0.01, nres) # M_nu\n",
    "y_PC = np.linspace(0.3 - 0.003, 0.3 + 0.003, nres) # omega_m\n",
    "z_PC = np.linspace(0.8295 - 0.005, 0.8295 + 0.005, nres) # sigma_8\n",
    "X_PC, Y_PC, Z_PC = np.meshgrid(x_PC, y_PC, z_PC, indexing='ij')\n",
    "input_param_list_PC = list(zip(np.ravel(X_PC), np.ravel(Y_PC), np.ravel(Z_PC)))\n",
    "\n",
    "# ----- BOILER PLATE STUFF BEGINS HERE\n",
    "\n",
    "# set up interpolator\n",
    "interp_PS = build_interp_zack(obsarr_PS, params)\n",
    "interp_PC = build_interp_zack(obsarr_PC, params)\n",
    "\n",
    "def P_PS( parameter_input ):\n",
    "    my_interp = interp_PS;\n",
    "    my_invcov = invcov_PS\n",
    "    my_fid_model = obsarr_PS[1]\n",
    "    \n",
    "    dm = my_fid_model - my_interp( parameter_input ) # d - mu\n",
    "    return np.exp( -0.5 * np.dot(dm.T,np.dot(my_invcov,dm)) )\n",
    "\n",
    "def P_PC( parameter_input ):\n",
    "    my_interp = interp_PC\n",
    "    my_invcov = invcov_PC\n",
    "    my_fid_model = obsarr_PC[1]\n",
    "    \n",
    "    dm = my_fid_model - my_interp( parameter_input ) # d - mu\n",
    "    return np.exp( -0.5 * np.dot(dm.T,np.dot(my_invcov,dm)) )\n",
    "\n",
    "if __name__ == '__main__':\n",
    "    if computing_PS_flag:\n",
    "        pool = Pool(16)\n",
    "        PS_cube = np.array(pool.map(P_PS, input_param_list_PS))\n",
    "        PS_cube = PS_cube.reshape(X_PS.shape)\n",
    "        pool.close()\n",
    "        np.save( 'cubes/' + output_cube_name + '_PS.npy', PS_cube )\n",
    "        np.save( 'cubes/' + output_cube_name + '_PS_xyz.npy', np.array([x_PS,y_PS,z_PS]) )\n",
    "        \n",
    "    if computing_PC_flag:\n",
    "        pool = Pool(16)\n",
    "        PC_cube = np.array(pool.map(P_PC, input_param_list_PC))\n",
    "        PC_cube = PC_cube.reshape(X_PC.shape)\n",
    "        pool.close()\n",
    "        np.save( 'cubes/' + output_cube_name + '_PC.npy', PC_cube )\n",
    "        np.save( 'cubes/' + output_cube_name + '_PC_xyz.npy', np.array([x_PC,y_PC,z_PC]) )"
   ]
  },
  {
   "cell_type": "code",
   "execution_count": null,
   "metadata": {
    "collapsed": true
   },
   "outputs": [],
   "source": []
  },
  {
   "cell_type": "markdown",
   "metadata": {},
   "source": [
    "### 2. PS/PC, cut at ellmax=5000, combining all 5 redshifts"
   ]
  },
  {
   "cell_type": "code",
   "execution_count": 10,
   "metadata": {
    "collapsed": false
   },
   "outputs": [
    {
     "name": "stdout",
     "output_type": "stream",
     "text": [
      "PS bins [24, 24, 24, 24, 24]\n",
      "PC bins [200, 184, 170, 163, 159]\n",
      "PS nr 1000 nb 120 0.8788788788788788\n",
      "PC nr 1000 nb 876 0.12212212212212212\n",
      "CPU times: user 26.7 s, sys: 1.67 s, total: 28.3 s\n",
      "Wall time: 15 s\n"
     ]
    }
   ],
   "source": [
    "%%time\n",
    "output_cube_name = '5z_old'\n",
    "data_dir = '/home/zequnl/Projects/neutrino_mpk/'\n",
    "table = ascii.read('parameters.table')\n",
    "\n",
    "params, obsarr_PS, obsarr_PC, ell, kappa, invcov_PS, invcov_PC = \\\n",
    "                file_loading.get_data_arrays_across_redshifts( table,\n",
    "                    data_dir = data_dir,\n",
    "                    PS_directory = data_dir + 'powerspectrum_noisy', \n",
    "                    PC_directory = data_dir + 'peakcounts_noisy',\n",
    "                    redshifts = ['05', '10', '15', '20', '25'])\n",
    "    \n",
    "# we overwrite the inverse covariance matrix with the new one\n",
    "# invcov_PC = file_loading.compute_custom_PC_cov(  ['05', '10', '15', '20', '11000'] )\n",
    "\n",
    "# set up grid\n",
    "x_PS = np.linspace(0.1 - 0.025, 0.1 + 0.025, nres) # M_nu\n",
    "y_PS = np.linspace(0.3 - 0.005, 0.3 + 0.005, nres) # omega_m\n",
    "z_PS = np.linspace(0.8295 - 0.005, 0.8295 + 0.005, nres) # sigma_8\n",
    "X_PS, Y_PS, Z_PS = np.meshgrid(x_PS, y_PS, z_PS, indexing='ij')\n",
    "input_param_list_PS = list(zip(np.ravel(X_PS), np.ravel(Y_PS), np.ravel(Z_PS)))\n",
    "\n",
    "x_PC = np.linspace(0.1 - 0.01, 0.1 + 0.01, nres) # M_nu\n",
    "y_PC = np.linspace(0.3 - 0.003, 0.3 + 0.003, nres) # omega_m\n",
    "z_PC = np.linspace(0.8295 - 0.005, 0.8295 + 0.005, nres) # sigma_8\n",
    "X_PC, Y_PC, Z_PC = np.meshgrid(x_PC, y_PC, z_PC, indexing='ij')\n",
    "input_param_list_PC = list(zip(np.ravel(X_PC), np.ravel(Y_PC), np.ravel(Z_PC)))\n",
    "\n",
    "# ----- BOILER PLATE STUFF BEGINS HERE\n",
    "\n",
    "# set up interpolator\n",
    "interp_PS = build_interp_zack(obsarr_PS, params)\n",
    "interp_PC = build_interp_zack(obsarr_PC, params)\n",
    "\n",
    "def P_PS( parameter_input ):\n",
    "    my_interp = interp_PS;\n",
    "    my_invcov = invcov_PS\n",
    "    my_fid_model = obsarr_PS[1]\n",
    "    \n",
    "    dm = my_fid_model - my_interp( parameter_input ) # d - mu\n",
    "    return np.exp( -0.5 * np.dot(dm.T,np.dot(my_invcov,dm)) )\n",
    "\n",
    "def P_PC( parameter_input ):\n",
    "    my_interp = interp_PC\n",
    "    my_invcov = invcov_PC\n",
    "    my_fid_model = obsarr_PC[1]\n",
    "    \n",
    "    dm = my_fid_model - my_interp( parameter_input ) # d - mu\n",
    "    return np.exp( -0.5 * np.dot(dm.T,np.dot(my_invcov,dm)) )\n",
    "\n",
    "if __name__ == '__main__':\n",
    "    if computing_PS_flag:\n",
    "        pool = Pool(16)\n",
    "        PS_cube = np.array(pool.map(P_PS, input_param_list_PS))\n",
    "        PS_cube = PS_cube.reshape(X_PS.shape)\n",
    "        pool.close()\n",
    "        np.save( 'cubes/' + output_cube_name + '_PS.npy', PS_cube )\n",
    "        np.save( 'cubes/' + output_cube_name + '_PS_xyz.npy', np.array([x_PS,y_PS,z_PS]) )\n",
    "        \n",
    "    if computing_PC_flag:\n",
    "        pool = Pool(16)\n",
    "        PC_cube = np.array(pool.map(P_PC, input_param_list_PC))\n",
    "        PC_cube = PC_cube.reshape(X_PC.shape)\n",
    "        pool.close()\n",
    "        np.save( 'cubes/' + output_cube_name + '_PC.npy', PC_cube )\n",
    "        np.save( 'cubes/' + output_cube_name + '_PC_xyz.npy', np.array([x_PC,y_PC,z_PC]) )"
   ]
  },
  {
   "cell_type": "code",
   "execution_count": 11,
   "metadata": {
    "collapsed": false
   },
   "outputs": [
    {
     "data": {
      "text/plain": [
       "[<matplotlib.lines.Line2D at 0x7fb6e83a7860>]"
      ]
     },
     "execution_count": 11,
     "metadata": {},
     "output_type": "execute_result"
    },
    {
     "data": {
      "image/png": "[encoded data removed]",
      "text/plain": [
       "<matplotlib.figure.Figure at 0x7fb6e87954e0>"
      ]
     },
     "metadata": {
      "image/png": {
       "height": 289,
       "width": 393
      }
     },
     "output_type": "display_data"
    }
   ],
   "source": [
    "plt.plot( x_PS, np.sum(np.sum(PS_cube, axis=0), axis=0) )"
   ]
  },
  {
   "cell_type": "markdown",
   "metadata": {},
   "source": [
    "# High $\\ell$"
   ]
  },
  {
   "cell_type": "code",
   "execution_count": null,
   "metadata": {
    "collapsed": true
   },
   "outputs": [],
   "source": [
    "%%time\n",
    "output_cube_name = '5z-highl'\n",
    "data_dir = '/home/zequnl/Projects/neutrino_mpk/'\n",
    "table = ascii.read('parameters.table')\n",
    "\n",
    "params, obsarr_PS, obsarr_PC, ell, kappa, invcov_PS, invcov_PC = \\\n",
    "                file_loading.get_data_arrays_across_redshifts( table,\n",
    "                    data_dir = data_dir,\n",
    "                    PS_directory = data_dir + 'powerspectrum_noisy', \n",
    "                    PC_directory = data_dir + 'peakcounts_noisy',\n",
    "                    redshifts = ['05', '10', '15', '20', '25'],\n",
    "                    l_max = 10000)\n",
    "    \n",
    "# we overwrite the inverse covariance matrix with the new one\n",
    "# invcov_PC = file_loading.compute_custom_PC_cov(  ['05', '10', '15', '20', '11000'] )\n",
    "\n",
    "\n",
    "# set up grid - actually just inherit from above! this is commented out, \n",
    "# uncomment if you're running this cell alone\n",
    "# x_PS = np.linspace(0.1 - 0.025, 0.1 + 0.025, nres) # M_nu\n",
    "# y_PS = np.linspace(0.3 - 0.005, 0.3 + 0.005, nres) # omega_m\n",
    "# z_PS = np.linspace(0.8295 - 0.005, 0.8295 + 0.005, nres) # sigma_8\n",
    "# X_PS, Y_PS, Z_PS = np.meshgrid(x_PS, y_PS, z_PS, indexing='ij')\n",
    "# input_param_list_PS = list(zip(np.ravel(X_PS), np.ravel(Y_PS), np.ravel(Z_PS)))\n",
    "\n",
    "# x_PC = np.linspace(0.1 - 0.01, 0.1 + 0.01, nres) # M_nu\n",
    "# y_PC = np.linspace(0.3 - 0.003, 0.3 + 0.003, nres) # omega_m\n",
    "# z_PC = np.linspace(0.8295 - 0.005, 0.8295 + 0.005, nres) # sigma_8\n",
    "# X_PC, Y_PC, Z_PC = np.meshgrid(x_PC, y_PC, z_PC, indexing='ij')\n",
    "# input_param_list_PC = list(zip(np.ravel(X_PC), np.ravel(Y_PC), np.ravel(Z_PC)))\n",
    "\n",
    "# ----- BOILER PLATE STUFF BEGINS HERE\n",
    "\n",
    "# set up interpolator\n",
    "interp_PS = build_interp_zack(obsarr_PS, params)\n",
    "interp_PC = build_interp_zack(obsarr_PC, params)\n",
    "\n",
    "def P_PS( parameter_input ):\n",
    "    my_interp = interp_PS;\n",
    "    my_invcov = invcov_PS\n",
    "    my_fid_model = obsarr_PS[1]\n",
    "    \n",
    "    dm = my_fid_model - my_interp( parameter_input ) # d - mu\n",
    "    return np.exp( -0.5 * np.dot(dm.T,np.dot(my_invcov,dm)) )\n",
    "\n",
    "def P_PC( parameter_input ):\n",
    "    my_interp = interp_PC\n",
    "    my_invcov = invcov_PC\n",
    "    my_fid_model = obsarr_PC[1]\n",
    "    \n",
    "    dm = my_fid_model - my_interp( parameter_input ) # d - mu\n",
    "    return np.exp( -0.5 * np.dot(dm.T,np.dot(my_invcov,dm)) )\n",
    "\n",
    "\n",
    "if __name__ == '__main__':\n",
    "    if computing_PS_flag:\n",
    "        pool = Pool(16)\n",
    "        PS_cube = np.array(pool.map(P_PS, input_param_list_PS))\n",
    "        PS_cube = PS_cube.reshape(X_PS.shape)\n",
    "        pool.close()\n",
    "        np.save( 'cubes/' + output_cube_name + '_PS.npy', PS_cube )\n",
    "        np.save( 'cubes/' + output_cube_name + '_PS_xyz.npy', np.array([x_PS,y_PS,z_PS]) )\n",
    "        \n",
    "    if computing_PC_flag:\n",
    "        pool = Pool(16)\n",
    "        PC_cube = np.array(pool.map(P_PC, input_param_list_PC))\n",
    "        PC_cube = PC_cube.reshape(X_PC.shape)\n",
    "        pool.close()\n",
    "        np.save( 'cubes/' + output_cube_name + '_PC.npy', PC_cube )\n",
    "        np.save( 'cubes/' + output_cube_name + '_PC_xyz.npy', np.array([x_PC,y_PC,z_PC]) )"
   ]
  },
  {
   "cell_type": "markdown",
   "metadata": {},
   "source": [
    "### 5 redshifts + CMB\n"
   ]
  },
  {
   "cell_type": "code",
   "execution_count": null,
   "metadata": {
    "collapsed": true
   },
   "outputs": [],
   "source": [
    "%%time\n",
    "output_cube_name = '5zCMB'\n",
    "data_dir = '/home/zequnl/Projects/neutrino_mpk/'\n",
    "table = ascii.read('parameters.table')\n",
    "\n",
    "params, obsarr_PS, obsarr_PC, ell, kappa, invcov_PS, invcov_PC = \\\n",
    "                file_loading.get_data_arrays_across_redshifts( table,\n",
    "                    data_dir = data_dir,\n",
    "                    PS_directory = data_dir + 'powerspectrum_noisy', \n",
    "                    PC_directory = data_dir + 'peakcounts_noisy',\n",
    "                    redshifts = ['05', '10', '15', '20', '25', '11000'])\n",
    "    \n",
    "# we overwrite the inverse covariance matrix with the new one\n",
    "# invcov_PC = file_loading.compute_custom_PC_cov(  ['05', '10', '15', '20', '11000'] )\n",
    "\n",
    "# set up grid\n",
    "x_PS = np.linspace(0.1 - 0.025, 0.1 + 0.025, nres) # M_nu\n",
    "y_PS = np.linspace(0.3 - 0.005, 0.3 + 0.005, nres) # omega_m\n",
    "z_PS = np.linspace(0.8295 - 0.005, 0.8295 + 0.005, nres) # sigma_8\n",
    "X_PS, Y_PS, Z_PS = np.meshgrid(x_PS, y_PS, z_PS, indexing='ij')\n",
    "input_param_list_PS = list(zip(np.ravel(X_PS), np.ravel(Y_PS), np.ravel(Z_PS)))\n",
    "\n",
    "x_PC = np.linspace(0.1 - 0.01, 0.1 + 0.01, nres) # M_nu\n",
    "y_PC = np.linspace(0.3 - 0.003, 0.3 + 0.003, nres) # omega_m\n",
    "z_PC = np.linspace(0.8295 - 0.005, 0.8295 + 0.005, nres) # sigma_8\n",
    "X_PC, Y_PC, Z_PC = np.meshgrid(x_PC, y_PC, z_PC, indexing='ij')\n",
    "input_param_list_PC = list(zip(np.ravel(X_PC), np.ravel(Y_PC), np.ravel(Z_PC)))\n",
    "\n",
    "# ----- BOILER PLATE STUFF BEGINS HERE\n",
    "\n",
    "# set up interpolator\n",
    "interp_PS = build_interp_zack(obsarr_PS, params)\n",
    "interp_PC = build_interp_zack(obsarr_PC, params)\n",
    "\n",
    "def P_PS( parameter_input ):\n",
    "    my_interp = interp_PS;\n",
    "    my_invcov = invcov_PS\n",
    "    my_fid_model = obsarr_PS[1]\n",
    "    \n",
    "    dm = my_fid_model - my_interp( parameter_input ) # d - mu\n",
    "    return np.exp( -0.5 * np.dot(dm.T,np.dot(my_invcov,dm)) )\n",
    "\n",
    "def P_PC( parameter_input ):\n",
    "    my_interp = interp_PC\n",
    "    my_invcov = invcov_PC\n",
    "    my_fid_model = obsarr_PC[1]\n",
    "    \n",
    "    dm = my_fid_model - my_interp( parameter_input ) # d - mu\n",
    "    return np.exp( -0.5 * np.dot(dm.T,np.dot(my_invcov,dm)) )\n",
    "\n",
    "if __name__ == '__main__':\n",
    "    if computing_PS_flag:\n",
    "        pool = Pool(16)\n",
    "        PS_cube = np.array(pool.map(P_PS, input_param_list_PS))\n",
    "        PS_cube = PS_cube.reshape(X_PS.shape)\n",
    "        pool.close()\n",
    "        np.save( 'cubes/' + output_cube_name + '_PS.npy', PS_cube )\n",
    "        np.save( 'cubes/' + output_cube_name + '_PS_xyz.npy', np.array([x_PS,y_PS,z_PS]) )\n",
    "        \n",
    "    if computing_PC_flag:\n",
    "        pool = Pool(16)\n",
    "        PC_cube = np.array(pool.map(P_PC, input_param_list_PC))\n",
    "        PC_cube = PC_cube.reshape(X_PC.shape)\n",
    "        pool.close()\n",
    "        np.save( 'cubes/' + output_cube_name + '_PC.npy', PC_cube )\n",
    "        np.save( 'cubes/' + output_cube_name + '_PC_xyz.npy', np.array([x_PC,y_PC,z_PC]) )"
   ]
  },
  {
   "cell_type": "markdown",
   "metadata": {},
   "source": [
    "### lever\n",
    "How much of a lever arm is redshift tomography?"
   ]
  },
  {
   "cell_type": "code",
   "execution_count": 5,
   "metadata": {
    "collapsed": false
   },
   "outputs": [
    {
     "name": "stdout",
     "output_type": "stream",
     "text": [
      "PS bins [24, 24]\n",
      "PC bins [200, 159]\n",
      "PS nr 1000 nb 48 0.950950950950951\n",
      "PC nr 1000 nb 359 0.6396396396396397\n"
     ]
    },
    {
     "ename": "NameError",
     "evalue": "name 'computing_PC_flag' is not defined",
     "output_type": "error",
     "traceback": [
      "\u001b[0;31m---------------------------------------------------------------------------\u001b[0m",
      "\u001b[0;31mNameError\u001b[0m                                 Traceback (most recent call last)",
      "\u001b[0;32m<ipython-input-5-70638d3f0d61>\u001b[0m in \u001b[0;36m<module>\u001b[0;34m()\u001b[0m\n\u001b[0;32m----> 1\u001b[0;31m \u001b[0mget_ipython\u001b[0m\u001b[0;34m(\u001b[0m\u001b[0;34m)\u001b[0m\u001b[0;34m.\u001b[0m\u001b[0mrun_cell_magic\u001b[0m\u001b[0;34m(\u001b[0m\u001b[0;34m'time'\u001b[0m\u001b[0;34m,\u001b[0m \u001b[0;34m''\u001b[0m\u001b[0;34m,\u001b[0m \u001b[0;34m\"output_cube_name = 'lever1'\\ndata_dir = '/home/zequnl/Projects/neutrino_mpk/'\\ntable = ascii.read('parameters.table')\\n\\nparams, obsarr_PS, obsarr_PC, ell, kappa, invcov_PS, invcov_PC = \\\\\\n                file_loading.get_data_arrays_across_redshifts( table,\\n                    data_dir = data_dir,\\n                    PS_directory = data_dir + 'powerspectrum_noisy', \\n                    PC_directory = data_dir + 'peakcounts_noisy',\\n                    redshifts = ['05', '25'])\\n    \\n# we overwrite the inverse covariance matrix with the new one\\n# invcov_PC = file_loading.compute_custom_PC_cov(  ['05', '10', '15', '20', '11000'] )\\n\\n# set up grid\\nx_PS = np.linspace(0.1 - 0.04, 0.1 + 0.13, nres) # M_nu\\ny_PS = np.linspace(0.3 - 0.012, 0.3 + 0.01, nres) # omega_m\\nz_PS = np.linspace(0.8295 - 0.012, 0.8295 + 0.016, nres) # sigma_8\\nX_PS, Y_PS, Z_PS = np.meshgrid(x_PS, y_PS, z_PS, indexing='ij')\\ninput_param_list_PS = list(zip(np.ravel(X_PS), np.ravel(Y_PS), np.ravel(Z_PS)))\\n\\nx_PC = np.linspace(0.1 - 0.01, 0.1 + 0.01, nres) # M_nu\\ny_PC = np.linspace(0.3 - 0.003, 0.3 + 0.003, nres) # omega_m\\nz_PC = np.linspace(0.8295 - 0.005, 0.8295 + 0.005, nres) # sigma_8\\nX_PC, Y_PC, Z_PC = np.meshgrid(x_PC, y_PC, z_PC, indexing='ij')\\ninput_param_list_PC = list(zip(np.ravel(X_PC), np.ravel(Y_PC), np.ravel(Z_PC)))\\n\\n# ----- BOILER PLATE STUFF BEGINS HERE\\n\\n# set up interpolator\\ninterp_PS = build_interp_zack(obsarr_PS, params)\\ninterp_PC = build_interp_zack(obsarr_PC, params)\\n\\ndef P_PS( parameter_input ):\\n    my_interp = interp_PS;\\n    my_invcov = invcov_PS\\n    my_fid_model = obsarr_PS[1]\\n    \\n    dm = my_fid_model - my_interp( parameter_input ) # d - mu\\n    return np.exp( -0.5 * np.dot(dm.T,np.dot(my_invcov,dm)) )\\n\\ndef P_PC( parameter_input ):\\n    my_interp = interp_PC\\n    my_invcov = invcov_PC\\n    my_fid_model = obsarr_PC[1]\\n    \\n    dm = my_fid_model - my_interp( parameter_input ) # d - mu\\n    return np.exp( -0.5 * np.dot(dm.T,np.dot(my_invcov,dm)) )\\n\\nif __name__ == '__main__':\\n    if computing_PS_flag:\\n        pool = Pool(16)\\n        PS_cube = np.array(pool.map(P_PS, input_param_list_PS))\\n        PS_cube = PS_cube.reshape(X_PS.shape)\\n        pool.close()\\n        np.save( 'cubes/' + output_cube_name + '_PS.npy', PS_cube )\\n        np.save( 'cubes/' + output_cube_name + '_PS_xyz.npy', np.array([x_PS,y_PS,z_PS]) )\\n        \\n    if computing_PC_flag:\\n        pool = Pool(16)\\n        PC_cube = np.array(pool.map(P_PC, input_param_list_PC))\\n        PC_cube = PC_cube.reshape(X_PC.shape)\\n        pool.close()\\n        np.save( 'cubes/' + output_cube_name + '_PC.npy', PC_cube )\\n        np.save( 'cubes/' + output_cube_name + '_PC_xyz.npy', np.array([x_PC,y_PC,z_PC]) )\"\u001b[0m\u001b[0;34m)\u001b[0m\u001b[0;34m\u001b[0m\u001b[0m\n\u001b[0m",
      "\u001b[0;32m/home/zequnl/anaconda3/lib/python3.6/site-packages/IPython/core/interactiveshell.py\u001b[0m in \u001b[0;36mrun_cell_magic\u001b[0;34m(self, magic_name, line, cell)\u001b[0m\n\u001b[1;32m   2113\u001b[0m             \u001b[0mmagic_arg_s\u001b[0m \u001b[0;34m=\u001b[0m \u001b[0mself\u001b[0m\u001b[0;34m.\u001b[0m\u001b[0mvar_expand\u001b[0m\u001b[0;34m(\u001b[0m\u001b[0mline\u001b[0m\u001b[0;34m,\u001b[0m \u001b[0mstack_depth\u001b[0m\u001b[0;34m)\u001b[0m\u001b[0;34m\u001b[0m\u001b[0m\n\u001b[1;32m   2114\u001b[0m             \u001b[0;32mwith\u001b[0m \u001b[0mself\u001b[0m\u001b[0;34m.\u001b[0m\u001b[0mbuiltin_trap\u001b[0m\u001b[0;34m:\u001b[0m\u001b[0;34m\u001b[0m\u001b[0m\n\u001b[0;32m-> 2115\u001b[0;31m                 \u001b[0mresult\u001b[0m \u001b[0;34m=\u001b[0m \u001b[0mfn\u001b[0m\u001b[0;34m(\u001b[0m\u001b[0mmagic_arg_s\u001b[0m\u001b[0;34m,\u001b[0m \u001b[0mcell\u001b[0m\u001b[0;34m)\u001b[0m\u001b[0;34m\u001b[0m\u001b[0m\n\u001b[0m\u001b[1;32m   2116\u001b[0m             \u001b[0;32mreturn\u001b[0m \u001b[0mresult\u001b[0m\u001b[0;34m\u001b[0m\u001b[0m\n\u001b[1;32m   2117\u001b[0m \u001b[0;34m\u001b[0m\u001b[0m\n",
      "\u001b[0;32m<decorator-gen-59>\u001b[0m in \u001b[0;36mtime\u001b[0;34m(self, line, cell, local_ns)\u001b[0m\n",
      "\u001b[0;32m/home/zequnl/anaconda3/lib/python3.6/site-packages/IPython/core/magic.py\u001b[0m in \u001b[0;36m<lambda>\u001b[0;34m(f, *a, **k)\u001b[0m\n\u001b[1;32m    186\u001b[0m     \u001b[0;31m# but it's overkill for just that one bit of state.\u001b[0m\u001b[0;34m\u001b[0m\u001b[0;34m\u001b[0m\u001b[0m\n\u001b[1;32m    187\u001b[0m     \u001b[0;32mdef\u001b[0m \u001b[0mmagic_deco\u001b[0m\u001b[0;34m(\u001b[0m\u001b[0marg\u001b[0m\u001b[0;34m)\u001b[0m\u001b[0;34m:\u001b[0m\u001b[0;34m\u001b[0m\u001b[0m\n\u001b[0;32m--> 188\u001b[0;31m         \u001b[0mcall\u001b[0m \u001b[0;34m=\u001b[0m \u001b[0;32mlambda\u001b[0m \u001b[0mf\u001b[0m\u001b[0;34m,\u001b[0m \u001b[0;34m*\u001b[0m\u001b[0ma\u001b[0m\u001b[0;34m,\u001b[0m \u001b[0;34m**\u001b[0m\u001b[0mk\u001b[0m\u001b[0;34m:\u001b[0m \u001b[0mf\u001b[0m\u001b[0;34m(\u001b[0m\u001b[0;34m*\u001b[0m\u001b[0ma\u001b[0m\u001b[0;34m,\u001b[0m \u001b[0;34m**\u001b[0m\u001b[0mk\u001b[0m\u001b[0;34m)\u001b[0m\u001b[0;34m\u001b[0m\u001b[0m\n\u001b[0m\u001b[1;32m    189\u001b[0m \u001b[0;34m\u001b[0m\u001b[0m\n\u001b[1;32m    190\u001b[0m         \u001b[0;32mif\u001b[0m \u001b[0mcallable\u001b[0m\u001b[0;34m(\u001b[0m\u001b[0marg\u001b[0m\u001b[0;34m)\u001b[0m\u001b[0;34m:\u001b[0m\u001b[0;34m\u001b[0m\u001b[0m\n",
      "\u001b[0;32m/home/zequnl/anaconda3/lib/python3.6/site-packages/IPython/core/magics/execution.py\u001b[0m in \u001b[0;36mtime\u001b[0;34m(self, line, cell, local_ns)\u001b[0m\n\u001b[1;32m   1178\u001b[0m         \u001b[0;32melse\u001b[0m\u001b[0;34m:\u001b[0m\u001b[0;34m\u001b[0m\u001b[0m\n\u001b[1;32m   1179\u001b[0m             \u001b[0mst\u001b[0m \u001b[0;34m=\u001b[0m \u001b[0mclock2\u001b[0m\u001b[0;34m(\u001b[0m\u001b[0;34m)\u001b[0m\u001b[0;34m\u001b[0m\u001b[0m\n\u001b[0;32m-> 1180\u001b[0;31m             \u001b[0mexec\u001b[0m\u001b[0;34m(\u001b[0m\u001b[0mcode\u001b[0m\u001b[0;34m,\u001b[0m \u001b[0mglob\u001b[0m\u001b[0;34m,\u001b[0m \u001b[0mlocal_ns\u001b[0m\u001b[0;34m)\u001b[0m\u001b[0;34m\u001b[0m\u001b[0m\n\u001b[0m\u001b[1;32m   1181\u001b[0m             \u001b[0mend\u001b[0m \u001b[0;34m=\u001b[0m \u001b[0mclock2\u001b[0m\u001b[0;34m(\u001b[0m\u001b[0;34m)\u001b[0m\u001b[0;34m\u001b[0m\u001b[0m\n\u001b[1;32m   1182\u001b[0m             \u001b[0mout\u001b[0m \u001b[0;34m=\u001b[0m \u001b[0;32mNone\u001b[0m\u001b[0;34m\u001b[0m\u001b[0m\n",
      "\u001b[0;32m<timed exec>\u001b[0m in \u001b[0;36m<module>\u001b[0;34m()\u001b[0m\n",
      "\u001b[0;31mNameError\u001b[0m: name 'computing_PC_flag' is not defined"
     ]
    }
   ],
   "source": [
    "%%time\n",
    "output_cube_name = 'lever1'\n",
    "data_dir = '/home/zequnl/Projects/neutrino_mpk/'\n",
    "table = ascii.read('parameters.table')\n",
    "\n",
    "params, obsarr_PS, obsarr_PC, ell, kappa, invcov_PS, invcov_PC = \\\n",
    "                file_loading.get_data_arrays_across_redshifts( table,\n",
    "                    data_dir = data_dir,\n",
    "                    PS_directory = data_dir + 'powerspectrum_noisy', \n",
    "                    PC_directory = data_dir + 'peakcounts_noisy',\n",
    "                    redshifts = ['05', '25'])\n",
    "    \n",
    "# we overwrite the inverse covariance matrix with the new one\n",
    "# invcov_PC = file_loading.compute_custom_PC_cov(  ['05', '10', '15', '20', '11000'] )\n",
    "\n",
    "# set up grid\n",
    "x_PS = np.linspace(0.1 - 0.04, 0.1 + 0.13, nres) # M_nu\n",
    "y_PS = np.linspace(0.3 - 0.012, 0.3 + 0.01, nres) # omega_m\n",
    "z_PS = np.linspace(0.8295 - 0.012, 0.8295 + 0.016, nres) # sigma_8\n",
    "X_PS, Y_PS, Z_PS = np.meshgrid(x_PS, y_PS, z_PS, indexing='ij')\n",
    "input_param_list_PS = list(zip(np.ravel(X_PS), np.ravel(Y_PS), np.ravel(Z_PS)))\n",
    "\n",
    "x_PC = np.linspace(0.1 - 0.01, 0.1 + 0.01, nres) # M_nu\n",
    "y_PC = np.linspace(0.3 - 0.003, 0.3 + 0.003, nres) # omega_m\n",
    "z_PC = np.linspace(0.8295 - 0.005, 0.8295 + 0.005, nres) # sigma_8\n",
    "X_PC, Y_PC, Z_PC = np.meshgrid(x_PC, y_PC, z_PC, indexing='ij')\n",
    "input_param_list_PC = list(zip(np.ravel(X_PC), np.ravel(Y_PC), np.ravel(Z_PC)))\n",
    "\n",
    "# ----- BOILER PLATE STUFF BEGINS HERE\n",
    "\n",
    "# set up interpolator\n",
    "interp_PS = build_interp_zack(obsarr_PS, params)\n",
    "interp_PC = build_interp_zack(obsarr_PC, params)\n",
    "\n",
    "def P_PS( parameter_input ):\n",
    "    my_interp = interp_PS;\n",
    "    my_invcov = invcov_PS\n",
    "    my_fid_model = obsarr_PS[1]\n",
    "    \n",
    "    dm = my_fid_model - my_interp( parameter_input ) # d - mu\n",
    "    return np.exp( -0.5 * np.dot(dm.T,np.dot(my_invcov,dm)) )\n",
    "\n",
    "def P_PC( parameter_input ):\n",
    "    my_interp = interp_PC\n",
    "    my_invcov = invcov_PC\n",
    "    my_fid_model = obsarr_PC[1]\n",
    "    \n",
    "    dm = my_fid_model - my_interp( parameter_input ) # d - mu\n",
    "    return np.exp( -0.5 * np.dot(dm.T,np.dot(my_invcov,dm)) )\n",
    "\n",
    "if __name__ == '__main__':\n",
    "    if computing_PS_flag:\n",
    "        pool = Pool(16)\n",
    "        PS_cube = np.array(pool.map(P_PS, input_param_list_PS))\n",
    "        PS_cube = PS_cube.reshape(X_PS.shape)\n",
    "        pool.close()\n",
    "        np.save( 'cubes/' + output_cube_name + '_PS.npy', PS_cube )\n",
    "        np.save( 'cubes/' + output_cube_name + '_PS_xyz.npy', np.array([x_PS,y_PS,z_PS]) )\n",
    "        \n",
    "    if computing_PC_flag:\n",
    "        pool = Pool(16)\n",
    "        PC_cube = np.array(pool.map(P_PC, input_param_list_PC))\n",
    "        PC_cube = PC_cube.reshape(X_PC.shape)\n",
    "        pool.close()\n",
    "        np.save( 'cubes/' + output_cube_name + '_PC.npy', PC_cube )\n",
    "        np.save( 'cubes/' + output_cube_name + '_PC_xyz.npy', np.array([x_PC,y_PC,z_PC]) )"
   ]
  },
  {
   "cell_type": "code",
   "execution_count": 8,
   "metadata": {
    "collapsed": false
   },
   "outputs": [
    {
     "name": "stdout",
     "output_type": "stream",
     "text": [
      "PS bins [24, 24]\n",
      "PC bins [200, 184]\n",
      "PS nr 1000 nb 48 0.950950950950951\n",
      "PC nr 1000 nb 384 0.6146146146146146\n",
      "CPU times: user 18 s, sys: 924 ms, total: 18.9 s\n",
      "Wall time: 33.2 s\n"
     ]
    }
   ],
   "source": [
    "%%time\n",
    "output_cube_name = 'lever2'\n",
    "data_dir = '/home/zequnl/Projects/neutrino_mpk/'\n",
    "table = ascii.read('parameters.table')\n",
    "\n",
    "params, obsarr_PS, obsarr_PC, ell, kappa, invcov_PS, invcov_PC = \\\n",
    "                file_loading.get_data_arrays_across_redshifts( table,\n",
    "                    data_dir = data_dir,\n",
    "                    PS_directory = data_dir + 'powerspectrum_noisy', \n",
    "                    PC_directory = data_dir + 'peakcounts_noisy',\n",
    "                    redshifts = ['05', '10'])\n",
    "\n",
    "# we overwrite the inverse covariance matrix with the new one\n",
    "# invcov_PC = file_loading.compute_custom_PC_cov(  ['05', '10', '15', '20', '11000'] )\n",
    "\n",
    "# set up grid\n",
    "x_PS = np.linspace(0.1 - 0.04, 0.1 + 0.13, nres) # M_nu\n",
    "y_PS = np.linspace(0.3 - 0.012, 0.3 + 0.01, nres) # omega_m\n",
    "z_PS = np.linspace(0.8295 - 0.012, 0.8295 + 0.016, nres) # sigma_8\n",
    "X_PS, Y_PS, Z_PS = np.meshgrid(x_PS, y_PS, z_PS, indexing='ij')\n",
    "input_param_list_PS = list(zip(np.ravel(X_PS), np.ravel(Y_PS), np.ravel(Z_PS)))\n",
    "\n",
    "x_PC = np.linspace(0.1 - 0.01, 0.1 + 0.01, nres) # M_nu\n",
    "y_PC = np.linspace(0.3 - 0.003, 0.3 + 0.003, nres) # omega_m\n",
    "z_PC = np.linspace(0.8295 - 0.005, 0.8295 + 0.005, nres) # sigma_8\n",
    "X_PC, Y_PC, Z_PC = np.meshgrid(x_PC, y_PC, z_PC, indexing='ij')\n",
    "input_param_list_PC = list(zip(np.ravel(X_PC), np.ravel(Y_PC), np.ravel(Z_PC)))\n",
    "\n",
    "# ----- BOILER PLATE STUFF BEGINS HERE\n",
    "\n",
    "# set up interpolator\n",
    "interp_PS = build_interp_zack(obsarr_PS, params)\n",
    "interp_PC = build_interp_zack(obsarr_PC, params)\n",
    "\n",
    "def P_PS( parameter_input ):\n",
    "    my_interp = interp_PS;\n",
    "    my_invcov = invcov_PS\n",
    "    my_fid_model = obsarr_PS[1]\n",
    "    \n",
    "    dm = my_fid_model - my_interp( parameter_input ) # d - mu\n",
    "    return np.exp( -0.5 * np.dot(dm.T,np.dot(my_invcov,dm)) )\n",
    "\n",
    "def P_PC( parameter_input ):\n",
    "    my_interp = interp_PC\n",
    "    my_invcov = invcov_PC\n",
    "    my_fid_model = obsarr_PC[1]\n",
    "    \n",
    "    dm = my_fid_model - my_interp( parameter_input ) # d - mu\n",
    "    return np.exp( -0.5 * np.dot(dm.T,np.dot(my_invcov,dm)) )\n",
    "\n",
    "if __name__ == '__main__':\n",
    "    if computing_PS_flag:\n",
    "        pool = Pool(16)\n",
    "        PS_cube = np.array(pool.map(P_PS, input_param_list_PS))\n",
    "        PS_cube = PS_cube.reshape(X_PS.shape)\n",
    "        pool.close()\n",
    "        np.save( 'cubes/' + output_cube_name + '_PS.npy', PS_cube )\n",
    "        np.save( 'cubes/' + output_cube_name + '_PS_xyz.npy', np.array([x_PS,y_PS,z_PS]) )\n",
    "        \n",
    "    if computing_PC_flag:\n",
    "        pool = Pool(16)\n",
    "        PC_cube = np.array(pool.map(P_PC, input_param_list_PC))\n",
    "        PC_cube = PC_cube.reshape(X_PC.shape)\n",
    "        pool.close()\n",
    "        np.save( 'cubes/' + output_cube_name + '_PC.npy', PC_cube )\n",
    "        np.save( 'cubes/' + output_cube_name + '_PC_xyz.npy', np.array([x_PC,y_PC,z_PC]) )"
   ]
  },
  {
   "cell_type": "code",
   "execution_count": null,
   "metadata": {
    "collapsed": true
   },
   "outputs": [],
   "source": []
  },
  {
   "cell_type": "code",
   "execution_count": null,
   "metadata": {
    "collapsed": true
   },
   "outputs": [],
   "source": []
  },
  {
   "cell_type": "code",
   "execution_count": null,
   "metadata": {
    "collapsed": true
   },
   "outputs": [],
   "source": []
  },
  {
   "cell_type": "code",
   "execution_count": null,
   "metadata": {
    "collapsed": true
   },
   "outputs": [],
   "source": []
  },
  {
   "cell_type": "code",
   "execution_count": null,
   "metadata": {
    "collapsed": true
   },
   "outputs": [],
   "source": []
  },
  {
   "cell_type": "code",
   "execution_count": null,
   "metadata": {
    "collapsed": true
   },
   "outputs": [],
   "source": []
  },
  {
   "cell_type": "code",
   "execution_count": null,
   "metadata": {
    "collapsed": true
   },
   "outputs": [],
   "source": []
  },
  {
   "cell_type": "code",
   "execution_count": null,
   "metadata": {
    "collapsed": true
   },
   "outputs": [],
   "source": []
  }
 ],
 "metadata": {
  "kernelspec": {
   "display_name": "Python 3",
   "language": "python",
   "name": "python3"
  },
  "language_info": {
   "codemirror_mode": {
    "name": "ipython",
    "version": 3
   },
   "file_extension": ".py",
   "mimetype": "text/x-python",
   "name": "python",
   "nbconvert_exporter": "python",
   "pygments_lexer": "ipython3",
   "version": "3.6.4"
  }
 },
 "nbformat": 4,
 "nbformat_minor": 2
}
